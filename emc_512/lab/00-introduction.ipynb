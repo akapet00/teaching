{
 "cells": [
  {
   "cell_type": "markdown",
   "metadata": {},
   "source": [
    "<center><h1>Elektromagnetska kompatibilnost (<a href='https://nastava.fesb.unist.hr/nastava/predmeti/13207' target='_blank' rel='noopener noreferrer'>FELO21</a>)</h1></center>\n",
    "<center>~ Akademska godina 2022/2023 ~</center>\n",
    "<center>Ante Lojić Kapetanović</center>\n",
    "<center>Fakultet elektrotehnike, strojastva i brodogradnje</center>\n",
    "<center>Sveučilište u Splitu, Split, Hrvatska</center>\n",
    "\n",
    "---"
   ]
  },
  {
   "cell_type": "markdown",
   "metadata": {},
   "source": [
    "### Plan izvedbe\n",
    "\n",
    "1. laboratorijska vježba - **Uvod u kolegij**\n",
    "    - teoretski pregled\n",
    "    - uvod u programsku okolinu `Jupyter Notebook` i programski jezik `Python 3.x`\n",
    "2. laboratorijska vježba - nisko propusni filtri i uvod u analizu spektra\n",
    "3. laboratorijska vježba - visoko i pojasno propusni filtri\n",
    "4. laboratorijska vježba - primjena filtera na stvarnim primjerima u elektromagnetskoj kompatibilnosti\n",
    "5. laboratorijska vježba - **Pokazna vježba** primjena filtera u inverznoj identifikaciji sustava\n",
    "6. laboratorijska vježba - **Nadoknada** vježbi\n",
    "\n",
    "---"
   ]
  },
  {
   "cell_type": "markdown",
   "metadata": {},
   "source": [
    "### 1. Uvod u kolegij\n",
    "\n",
    "#### 1.0. Općenito o izvođenju\n",
    "\n",
    "- Uz uvodnu, ukupno će se održavati 5 laboratorijskih vježbi.\n",
    "- Za sve naredne vježbe koje će se odvijati u laboratoriju, potrebno je pročitati pripadna upustva, postavljena na [ovoj web stranici](http://adria.fesb.hr/~alojic00/teaching/emc/reading/), prije dolaska na vježbe.\n",
    "- Ukupno možete izostati s jednih vježbi a nadoknade će se održati po dogovoru u predzadnjem tjednu semestra."
   ]
  },
  {
   "cell_type": "markdown",
   "metadata": {},
   "source": [
    "#### 1.1. Teoretski pregled\n",
    "- Dodatni preporučeni materijal:\n",
    "    1. [Teorija elektromagnetskih polja s primjenama u inženjerstvu](https://shop.skolskaknjiga.hr/teorija-elektromagnetskih-polja-s-primjenama-u-inzenjerstvu.html) - poglavlje 28. Osnove elektromagnetske kompatibilnosti;\n",
    "    2. [Advanced Modeling in Computational Electromagnetic Compatibility](https://onlinelibrary.wiley.com/doi/book/10.1002/0470116889).\n",
    "\n",
    "Pod pojmom elektromagnetska kompatibilnosti (*electromagnetic compatibility* - EMC) podrazumijeva se sposobnost uređaja da zadovoljavajuće funkcionira unutar elektromagnetskog okruženja:\n",
    "- uređaj ili sustav ne smije biti ometan vanjskim poljem te ne smije biti izvor smetnji kao što su netolerabilna elektromagnetska ometanja elektroničkog sustava u bliskom okruženju;\n",
    "- zadovoljavajuće funkcioniranje uređaja ili sustava implicira pravilan rad i imunost na smetenje koje se smatraju uobičajenima u okruženju.\n",
    "\n",
    "Zadaća EMC-a je potisnuti bilo kakvu vrstu elektromagnetske smetnje (*electromagnetic interference* -EMI) kroz 2 osnovna zahtjeva:\n",
    "1. testiranje imunosti (*immunity testing*) - nakon realizacije i konstrukcije uređaja, potrebno je ispitati je li uređaj potencijalna žrtva smetenje, odnosno zadovoljava li EMC zahtjev da ga ne ometaju pri radu bilo kakvi vanjski izvori elektromagnetske smetnje proizvedeni u njegovom bliskom okruženju;\n",
    "2. testiranje emisije (*emission testing*) - tijekom same realizacije i konstrukcije uređaja, potrebno je uvjeriti se da uređaj nije izvor elektromagnetske smetenje za bilo koje druge uređaje ili okolni sustav u bliskom okruženju.\n",
    "\n",
    "Kako bi se izbjegli troškovi realizacije i konstrukcije već spomenutih elektroničkih uređaja ili sustava, osnovna zadaća **računalne** elektromagnetske kompatibilnosti (naspram do sada spomenute eksperimentalne) je **simulacija** elektromagnetskog ponašanja za vrlo širok opseg parametara - različiti početni i rubni uvjeti, oblici pobude te naposlijetku konfiguracija i geometrija samog sustava. Osnovni računalni EMC model uključuje **izvor smetnje** (npr., radioodašiljač, mobilni telefon, udar munje ili neki drugi tip elektromagnetskog impulsa), **stazu sprege** koja se odnosi na elektromagnetska polja koja se propagiraju u slobodnom prostoru, materijalu ili vodiču i **žrtvu smetnje** (npr., radioprijemnik, medicinska elektronička oprema, ljudsko tijelo).\n",
    "\n",
    "![EMI-coupling-modes](https://upload.wikimedia.org/wikipedia/commons/thumb/0/00/EMI_coupling_modes.svg/1920px-EMI_coupling_modes.svg.png)\n",
    "(4 osnovna mehanizma sprege: konduktivni, kapacitivni, induktivni, i zračenje. ref: https://en.wikipedia.org/wiki/Electromagnetic_compatibility)\n",
    "\n",
    "Svi EMC računalni modeli proizlaze iz koncepta rigorozne elektromagnetske teroije i temelja zasnovanih na Maxwellovim jednadžbama - prikazane u diferencijalnoj vektorskoj formi kako slijedi:\n",
    "$$\n",
    "\\begin{align}\n",
    "    \\nabla \\times \\vec E &= - \\frac{\\partial \\vec B}{\\partial t}\\\\\n",
    "    \\nabla \\times \\vec H &= \\frac{\\partial \\vec D}{\\partial t} + \\vec J\\\\\n",
    "    \\nabla \\vec D &= \\rho\\\\\n",
    "    \\nabla \\vec B &= 0\\\\\n",
    "\\end{align}\n",
    "$$\n",
    "\n",
    "EMC modeli realiziraju se primjenom analitičkih ili numeričkih relacija i metoda. Analitički modeli se koriste za jednostavne geometrije visokog stupnja simetrije (kanonski problemi), dok se numerički modeli koriste za precizne simulacije složenih praktičnih inženjerskih problema koji oključuju realistične scenarije i kompleksne geometrije domene.\n",
    "\n",
    "Osnovna klasifikacija EMC računalnih modela koji se koriste u istraživanju, ali i u inženjerskoj praksi:\n",
    "1. modeli teorije krugova zasnovani na konceptu koncentriranih električnih parametara;\n",
    "2. modeli prijenosnih linija zasnovani na distribuiranim parametrima koji vrijede za spregu s poljima niskih frekvencija;\n",
    "3. modeli zastnovani na teoriji antena kod kojih se uzimaju u obzir efekti zračenja za rješavanje problema propagacije elektromagnetskih valova.\n",
    "\n",
    "U svojoj osnovi, svi spomenuti modeli mogu se dodatno klasificirati na:\n",
    "1. stacionarne probleme (*continuous wave problems*);\n",
    "2. prijalazne pojave (*transients*).\n",
    "\n",
    "S obzirom na stazu sprege, smetnje dijelimo na dvije velike grupe:\n",
    "1. vođene smetnje (npr. inducirani prenaponi, harmonici);\n",
    "2. zračene smetenje (npr. naponi inducirani udarom munje, zračenjem antenskih sustava, prisluškivanjem)."
   ]
  },
  {
   "cell_type": "markdown",
   "metadata": {},
   "source": [
    "#### 1.2. Uvod u programsku okolinu `Jupyter Notebook` i programski jezik `Python 3.x`\n",
    "- bilježnica za vježbe: 01-lab-ex.ipynb\n",
    "- dodatni preporučeni materijali:\n",
    "    1. [Learn X in Y minutes](https://learnxinyminutes.com/docs/python/)\n",
    "    2. [Whirlwind Tour of Python](https://github.com/jakevdp/WhirlwindTourOfPython)\n",
    "    3. [Getting started with Python for science](https://scipy-lectures.org/intro/index.html)\n",
    "    4. [A Primer on Scientific Programming with Python](https://link.springer.com/book/10.1007%2F978-3-642-54959-5)"
   ]
  }
 ],
 "metadata": {
  "kernelspec": {
   "display_name": "Python 3 (ipykernel)",
   "language": "python",
   "name": "python3"
  },
  "language_info": {
   "codemirror_mode": {
    "name": "ipython",
    "version": 3
   },
   "file_extension": ".py",
   "mimetype": "text/x-python",
   "name": "python",
   "nbconvert_exporter": "python",
   "pygments_lexer": "ipython3",
   "version": "3.9.12"
  }
 },
 "nbformat": 4,
 "nbformat_minor": 4
}
