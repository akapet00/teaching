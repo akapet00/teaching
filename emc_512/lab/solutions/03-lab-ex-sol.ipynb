{
 "cells": [
  {
   "cell_type": "markdown",
   "metadata": {},
   "source": [
    "# 3. laboratorijska vježba"
   ]
  },
  {
   "cell_type": "code",
   "execution_count": null,
   "metadata": {},
   "outputs": [],
   "source": [
    "# učitavanje potrebnih biblioteka\n",
    "\n",
    "import numpy as np\n",
    "import matplotlib.pyplot as plt\n",
    "import scipy.signal as ss"
   ]
  },
  {
   "cell_type": "code",
   "execution_count": null,
   "metadata": {},
   "outputs": [],
   "source": [
    "#@title pomoćna funkcija\n",
    "# izvršite ovu ćeliju ali se ne opterećujte detaljima implementacije\n",
    "\n",
    "def plot_frequency_response(f, Hm, fc=None, ylim_min=None):\n",
    "    \"\"\"Grafički prikaz prijenosne funkcije filtra.\n",
    "    \n",
    "    Args\n",
    "        f (numpy.ndarray) : frekvencije\n",
    "        Hm (numpy.ndarray) : apsolutne vrijednosti prijenosne funkcije\n",
    "        fc (number) : cutoff frekvencija\n",
    "        ylim_min (number): minimalna vrijednost na y-osi za dB skalu\n",
    "\n",
    "    Returns\n",
    "        (matplotlib.figure.Figure, matplotlib.axes._subplots.AxesSubplot)\n",
    "    \"\"\"\n",
    "    Hc = 1 / np.sqrt(2)\n",
    "    if fc is None:\n",
    "        fc_idx = np.where(np.isclose(Hm, Hc, rtol=1e-03))[0][0]\n",
    "        fc = f[fc_idx]\n",
    "    H_db = 20 * np.log10(Hm)\n",
    "    \n",
    "    fig, ax = plt.subplots(nrows=2, ncols=2, figsize=(12, 7.5))\n",
    "\n",
    "    ax[0, 0].plot(f, Hm, label='$H(f)$')\n",
    "    ax[0, 0].plot(fc, Hc, 'o', label='$H(f_c)$')\n",
    "    ax[0, 0].vlines(fc, Hm.min(), Hc, linestyle='--')\n",
    "    ax[0, 0].annotate(f'$f_c = {fc:.3f}$ Hz\\n$H(f_c)={Hc:.3f}$', (fc * 1.4, Hc))\n",
    "    ax[0, 0].set_xscale('log')\n",
    "    ax[0, 0].set_ylabel('$|V_{out}$ / $V_{in}$|')\n",
    "    ax[0, 0].set_title('log scale')\n",
    "    ax[0, 0].legend(loc='lower left')\n",
    "    ax[0, 0].grid()\n",
    "    \n",
    "    ax[0, 1].plot(f, Hm, label='$H(f)$')\n",
    "    ax[0, 1].plot(fc, Hc, 'o', label='$H(f_c)$')\n",
    "    ax[0, 1].annotate(f'$f_c = {fc:.3f}$ Hz\\n$H(f_c)={Hc:.3f}$', (fc * 1.4, Hc))\n",
    "    ax[0, 1].set_title('linear scale')\n",
    "    ax[0, 1].legend()\n",
    "    ax[0, 1].grid()\n",
    "\n",
    "    ax[1, 0].plot(f, H_db, label='$H_{dB}(f)$')\n",
    "    ax[1, 0].plot(fc, H_db.max() - 3, 'o', label='$H_{dB}(f_c)$')\n",
    "    ax[1, 0].vlines(fc, H_db.min(), H_db.max() - 3, linestyle='--')\n",
    "    ax[1, 0].annotate(f'$f_c = {fc:.3f}$ Hz\\n$H(f_c)={H_db.max() - 3:.3f} dB$',\n",
    "                      (fc * 1.4, H_db.max() - 3))\n",
    "    ax[1, 0].set_xscale('log')\n",
    "    ax[1, 0].set_xlabel('$f$ [Hz]')\n",
    "    ax[1, 0].set_ylabel('$20 \\\\cdot \\\\log$ |$V_{out}$ / $V_{in}$|')\n",
    "    if ylim_min:\n",
    "        ax[1, 0].set_ylim((ylim_min, 10))\n",
    "    ax[1, 0].legend(loc='lower left')\n",
    "    ax[1, 0].grid()\n",
    "\n",
    "    ax[1, 1].plot(f, H_db, label='$H_{dB}(f)$')\n",
    "    ax[1, 1].plot(fc, H_db.max() - 3, 'o', label='$H_{dB}(f_c)$')\n",
    "    ax[1, 1].annotate(f'$f_c = {fc:.3f}$ Hz\\n$H(f_c)={H_db.max() - 3:.3f} dB$',\n",
    "                      (fc * 1.4, H_db.max() - 3))\n",
    "    ax[1, 1].set_xlabel('$f$ [Hz]')\n",
    "    if ylim_min:\n",
    "        ax[1, 1].set_ylim((ylim_min, 10))\n",
    "    ax[1, 1].legend()\n",
    "    ax[1, 1].grid()\n",
    "\n",
    "    fig.tight_layout\n",
    "    return fig, ax"
   ]
  },
  {
   "cell_type": "markdown",
   "metadata": {},
   "source": [
    "### Pasivni visoko-propusni filtri\n",
    "\n",
    "Realizacija visoko-propusnog filtra u ovom slučaju se ostvaruje korištenjem otpornika i zavojnice povezanih u seriju, pri čemu se izlaz promatra kao napon na zavojnici, $V_{out}$ Uz pretpostavku da je signal na ulazu, $V_{in}$, sinusoidalni naponski izvor, analizu možemo prebaciti u frekvencijsku domenu koristeći impedancijski model. Na ovaj način izbjegavamo potrebu za korištenjem diferencijalnog računa i čitav proračun se svodi na jednostavni algebarski problem. \n",
    "\n",
    "<center>\n",
    "<img src=\"https://upload.wikimedia.org/wikipedia/commons/thumb/b/bb/Series-RL.svg/768px-Series-RL.svg.png\" alt=\"simple-rl-highpass\" width=\"400\"/>\n",
    "</center>\n",
    "\n",
    "Izraz za funkciju prijenosnog odziva dobijamo kao omjer izlaznog i ulaznog napona. Izlazni napon - napon na zavojnici, $V_{out}$, definiramo kroz podjelu ulaznog napona na sljedeći način:\n",
    "\n",
    "$$\n",
    "\\begin{align}\n",
    "    V_{out} &= \\frac{Z_l}{Z_l + Z_r} \\cdot V_{in} \\\\\n",
    "    H(\\omega) = \\frac{V_{out}}{V_{in}} &= \\frac{Z_l}{Z_l + Z_r} = \\frac{j\\omega L}{j\\omega L + R} = \\frac{1}{1+R/(j\\omega L)}\n",
    "\\end{align}\n",
    "$$\n",
    "\n",
    "Kako je $H$ funkcija frekvencije, imamo dva ruba slučaja:\n",
    "* za iznimno niske frekvencije kada je $\\omega \\sim 0$ slijedi da je $H(\\omega) \\rightarrow 0$;\n",
    "* za iznimno visoke frekvencije kada $\\omega \\rightarrow \\infty$ slijedi da je $H(\\omega) = 0$.\n",
    "\n",
    "Potrebno je dodatno definirati već spomenutu *cut-off* frekvenciju, $f_c$, za koju amplituda funkcije frekvencijskog odziva, $H$, pada za $\\sqrt 2$ puta, odnosno za $3$ dB:\n",
    "$$\n",
    "\\begin{align}\n",
    "    f_c &= \\frac{R}{2 \\pi L}\n",
    "\\end{align}\n",
    "$$\n",
    "\n",
    "Link za interaktivni rad sa pasivnim visoko-propusnim filtrom: http://sim.okawa-denshi.jp/en/LRtool.php\n",
    "\n",
    "#### Zadatak 1\n",
    "\n",
    "Prvi zadatak je implementirati funkciju `cutoff_frequency` koja na ulazu prima iznose otpora, `R`, i zavojnice, `L`, a na izlazu daje *cutoff* frekvenciju visoko-propusnog filtra."
   ]
  },
  {
   "cell_type": "code",
   "execution_count": null,
   "metadata": {},
   "outputs": [],
   "source": [
    "def cutoff_frequency(R, L):\n",
    "    \"\"\"Cutoff frekvencija visoko-propusnog RL filtra.\n",
    "    \n",
    "    Args:\n",
    "        R (number) : vrijednost otpora otpornika\n",
    "        L (number) : induktivitet zavojnice\n",
    "    \n",
    "    Returns:\n",
    "        number\n",
    "    \"\"\"\n",
    "    #######################################################\n",
    "    ## TO-DO: implementiraj proračun cutoff frekvencije ##\n",
    "    # Nakon toga zakomentiraj sljedeću liniju.\n",
    "    # raise NotImplementedError('Implementiraj proračun cutoff frekvencije.')\n",
    "    #######################################################\n",
    "\n",
    "    # definiraj cutoff frekvenciju\n",
    "    fc = R / (2 * np.pi * L)\n",
    "    return fc"
   ]
  },
  {
   "cell_type": "markdown",
   "metadata": {},
   "source": [
    "Kolika je *cutoff* frekvencija za otpor od $200 \\Omega$ i induktivitet zavojnice od $100 mH$?"
   ]
  },
  {
   "cell_type": "code",
   "execution_count": null,
   "metadata": {},
   "outputs": [],
   "source": [
    "R = 200  # otpor\n",
    "L = 100e-3  # induktivitet\n",
    "\n",
    "fc = cutoff_frequency(R, L)  # cutoff frekvencija\n",
    "\n",
    "print(f'R = {R/1000} kΩ')\n",
    "print(f'L = {L*1000} mH')\n",
    "print(f'cutoff frekvencija iznosi {fc:.2f} Hz, '\n",
    "      'očekivana vrijednost je 318.31 Hz')"
   ]
  },
  {
   "cell_type": "markdown",
   "metadata": {},
   "source": [
    "#### Zadatak 2\n",
    "\n",
    "Drugi zadatak je implementirati funkciju `rl_highpass` koja na ulazu prima iznose otpora, `R`, induktiviteta, `L`, i frekvenciju, `f`, a na izlazu daje prijenosni odziv pasivnog visoko-propusnog RL filtra."
   ]
  },
  {
   "cell_type": "code",
   "execution_count": null,
   "metadata": {},
   "outputs": [],
   "source": [
    "def rl_highpass(R, L, f):\n",
    "    \"\"\"Funkcija prijenosnog odziva RL visoko-propusnog filtra.\n",
    "    \n",
    "    Args:\n",
    "        R (number) : vrijednost otpora otpornika\n",
    "        L (number) : induktivitet\n",
    "        f (number or numpy.ndarray) : frekvencija/e\n",
    "    \n",
    "    Returns:\n",
    "        float or numpy.ndarray\n",
    "    \"\"\"\n",
    "    ######################################################\n",
    "    ## TO-DO: implementiraj funkciju prijenosnog odziva ##\n",
    "    # Nakon toga zakomentiraj sljedeću liniju.\n",
    "    # raise NotImplementedError('Implementiraj funckiju prijenosnog odziva.')\n",
    "    ######################################################\n",
    "\n",
    "    # definiraj funkciju prijenosnog pazeći da `f` može biti ili broj (int,\n",
    "    # float) ili 1-D niz (`numpy.ndarray`)\n",
    "    H = 1 / (1 + R / (1j * 2 * np.pi * f * L))\n",
    "    return H"
   ]
  },
  {
   "cell_type": "markdown",
   "metadata": {},
   "source": [
    "Kolika je vrijednost prijenosne funkcije pri *cutoff* frekvencija za otpor od $200 \\Omega$ i induktivitet zavojnice od $100 mH$?"
   ]
  },
  {
   "cell_type": "code",
   "execution_count": null,
   "metadata": {},
   "outputs": [],
   "source": [
    "R = 200  # otpor\n",
    "L = 100e-3  # induktivitet\n",
    "\n",
    "Hc = rl_highpass(R, L, fc)  # prijenosna funkcija pri cutoff frekvenciji\n",
    "\n",
    "print(f'R = {R:.2f} Ω')\n",
    "print(f'C = {L * 1000:.2f} mH')\n",
    "print(f'pojačanje pri cutoff frekvenciji iznosi {abs(Hc):.4f}, '\n",
    "      'očekivana vrijednost je 1/√2\\n\\n'\n",
    "      'provjerite ispravnost dobivenog rezutltata')"
   ]
  },
  {
   "cell_type": "code",
   "execution_count": null,
   "metadata": {},
   "outputs": [],
   "source": [
    "# ćelija za provjeru rezultata\n",
    "\n",
    "1 / np.sqrt(2)"
   ]
  },
  {
   "cell_type": "markdown",
   "metadata": {},
   "source": [
    "Pretvorite vrijednost prijenosne funkcije pri *cutoff* frekvenciju u decibele i uvjerite se u tvrdnju da amplituda funkcije frekvencijskog odziva, $H$, pada za $3$ dB pri *cutoff* frekvenciji."
   ]
  },
  {
   "cell_type": "code",
   "execution_count": null,
   "metadata": {},
   "outputs": [],
   "source": [
    "Hc_dB = 20 * np.log10(abs(Hc))  # pretvorba prijenosne funkcije pri cutoff frekvenciji u dB skalu\n",
    "print(Hc_dB)"
   ]
  },
  {
   "cell_type": "markdown",
   "metadata": {},
   "source": [
    "Za raspon od $10000$ vrijednosti frekvencija do $10 kHz$ te za otpor od $200 \\Omega$ i induktivitet zavojnice od $100 mH$, izračunajte vrijednosti prijenosne funkcije."
   ]
  },
  {
   "cell_type": "code",
   "execution_count": null,
   "metadata": {},
   "outputs": [],
   "source": [
    "f = np.linspace(1e-3, 10e3, num=10000)\n",
    "H = rl_highpass(R, L, f)  # prijenosna funkcija"
   ]
  },
  {
   "cell_type": "markdown",
   "metadata": {},
   "source": [
    "S obzirom da su vrijednosti prijenosne funkcije kompleksne veličine, razmilite što je potrebno napraviti s njima prije nego ih grafički prikažemo?"
   ]
  },
  {
   "cell_type": "code",
   "execution_count": null,
   "metadata": {},
   "outputs": [],
   "source": [
    "Hm = np.abs(H)  # konverzija u apsolutne vrijednosti"
   ]
  },
  {
   "cell_type": "markdown",
   "metadata": {},
   "source": [
    "Vizualizirajte ovisnost prijenosne funkcije o frekvenciji koristeći `matplotlib` i funkciju `matplotlib.pyplot.plot`."
   ]
  },
  {
   "cell_type": "code",
   "execution_count": null,
   "metadata": {},
   "outputs": [],
   "source": [
    "plt.plot(f, Hm)\n",
    "plt.xlabel('f [Hz]')\n",
    "plt.ylabel('H(f)')\n",
    "plt.show()"
   ]
  },
  {
   "cell_type": "markdown",
   "metadata": {},
   "source": [
    "Vizualizirajte sada rezultate koristeći već implementiranu funkciju `plot_frequency_response`.\n",
    "\n",
    "Napomena: za provjeru načina korištenja prethodne funkcije koristite sljedeću naredbu:\n",
    "\n",
    "```python\n",
    "help(plot_frequency_response)\n",
    "```\n",
    "\n",
    "ili jednostavno\n",
    "\n",
    "```python\n",
    "plot_frequency_response?\n",
    "```"
   ]
  },
  {
   "cell_type": "code",
   "execution_count": null,
   "metadata": {},
   "outputs": [],
   "source": [
    "# provjerite način korištenja funkcije\n",
    "\n",
    "plot_frequency_response?"
   ]
  },
  {
   "cell_type": "code",
   "execution_count": null,
   "metadata": {},
   "outputs": [],
   "source": [
    "fig, ax = plot_frequency_response(f, Hm, fc)  # grafički prikaz dobivenih rezultata"
   ]
  },
  {
   "cell_type": "markdown",
   "metadata": {},
   "source": [
    "### Strujno-naponska karakteristika RL visoko-propusnog filtra"
   ]
  },
  {
   "cell_type": "code",
   "execution_count": null,
   "metadata": {},
   "outputs": [],
   "source": [
    "def time_constant(L, R):\n",
    "    \"\"\"Vremenska konstanta RL visoko-propusnog filtra.\n",
    "    \n",
    "    Args:\n",
    "        R (number) : vrijednost otpora otpornika\n",
    "        L (number) : induktivitet\n",
    "    \n",
    "    Returns:\n",
    "        float or numpy.ndarray\n",
    "    \"\"\"\n",
    "    ##################################################################\n",
    "    ## TO-DO: implementiraj fnkciju koja racuna vremensku konstantu ##\n",
    "    # Nakon toga zakomentiraj sljedeću liniju.\n",
    "    # raise NotImplementedError('Implementiraj vremensku konstantu.')\n",
    "    ##################################################################\n",
    "    \n",
    "    # definiraj vremensku konstantu\n",
    "    tau = L / R\n",
    "    return tau"
   ]
  },
  {
   "cell_type": "code",
   "execution_count": null,
   "metadata": {},
   "outputs": [],
   "source": [
    "tau = time_constant(L, R)  # vremenska konstanta\n",
    "tau"
   ]
  },
  {
   "cell_type": "markdown",
   "metadata": {},
   "source": [
    "Koja fizikalna veličina je pridružena vremenskoj konstanti? Objasni."
   ]
  },
  {
   "cell_type": "code",
   "execution_count": null,
   "metadata": {},
   "outputs": [],
   "source": [
    "def rl_current(t, t_switch, V, R, L):\n",
    "    \"\"\"Struja kroz RL visoko-propusni filtar.\n",
    "    \n",
    "    Args:\n",
    "        t (number or numpy.ndarray) : trenutak/ci u kojima računamo\n",
    "            vrijednost struje\n",
    "        t_switch (number) : treneutak promjene predznaka struje\n",
    "        V (number) : napon na ulazu\n",
    "        R (number) : vrijednost otpora otpornika\n",
    "        L (number) : induktivitet\n",
    "    \n",
    "    Returns:\n",
    "        float or numpy.ndarray\n",
    "    \"\"\"\n",
    "    I0 = V / R\n",
    "    i = np.where(t < t_switch,\n",
    "                 I0 * (1 - np.exp((-R / L) * t)),\n",
    "                 I0 * np.exp((-R / L) * (t - t_switch)))\n",
    "    return i"
   ]
  },
  {
   "cell_type": "code",
   "execution_count": null,
   "metadata": {},
   "outputs": [],
   "source": [
    "V = 5  # napon na ulazu\n",
    "tau = time_constant(L, R)  # vremenska konstanta filtra\n",
    "t_switch = tau * 4.4  # vrijeme promjene predznaka struje\n",
    "T = 2 * t_switch  # period\n",
    "t = np.linspace(0, T)  # vremenska serija trenutaka u kojima evaluiramo vrijednost struje\n",
    "i_rl = rl_current(t, t_switch, V, R, L)  # RL struja\n",
    "i = V / R * np.sin(2 * np.pi * t / T)  # sinusna struja"
   ]
  },
  {
   "cell_type": "code",
   "execution_count": null,
   "metadata": {},
   "outputs": [],
   "source": [
    "# vizualizacija RL struje\n",
    "\n",
    "plt.figure()\n",
    "plt.plot(t, i_rl, label='struja')\n",
    "plt.plot(t, i, label='on-off ciklus')\n",
    "plt.plot([t.min(), t_switch, t.max()], [0, 0, 0], 'rx')\n",
    "plt.hlines(0, t.min(), t.max(), 'k')\n",
    "plt.vlines(t_switch, i.min(), i.max(), 'k')\n",
    "plt.xlabel('t [s]')\n",
    "plt.ylabel('i(t) [A]')\n",
    "plt.legend()\n",
    "plt.grid()\n",
    "plt.show()"
   ]
  },
  {
   "cell_type": "markdown",
   "metadata": {},
   "source": [
    "### Pojasno propusni filtri\n",
    "Sljedeći kod koristi više različitih tipova pojasno-propusnih filtara (Hamming, Kaiser, Remez) i uspoređuje ih s idealnom prijenosnom funkcijom."
   ]
  },
  {
   "cell_type": "code",
   "execution_count": null,
   "metadata": {},
   "outputs": [],
   "source": [
    "def bandpass_firwin(ntaps, lowcut, highcut, fs, window='hamming'):\n",
    "    taps = ss.firwin(ntaps, [lowcut, highcut], nyq=0.5 * fs, pass_zero=False,\n",
    "                     window=window, scale=False)\n",
    "    return taps\n",
    "\n",
    "\n",
    "def bandpass_kaiser(ntaps, lowcut, highcut, fs, width):\n",
    "    atten = ss.kaiser_atten(ntaps, width / (0.5 * fs))\n",
    "    beta = ss.kaiser_beta(atten)\n",
    "    taps = ss.firwin(ntaps, [lowcut, highcut], nyq=0.5 * fs, pass_zero=False,\n",
    "                     window=('kaiser', beta), scale=False)\n",
    "    return taps\n",
    "\n",
    "\n",
    "def bandpass_remez(ntaps, lowcut, highcut, fs, width):\n",
    "    delta = 0.5 * width\n",
    "    edges = [0,\n",
    "             lowcut - delta,\n",
    "             lowcut + delta,\n",
    "             highcut - delta,\n",
    "             highcut + delta,\n",
    "             0.5 * fs,\n",
    "            ]\n",
    "    taps = ss.remez(ntaps, edges, [0, 1, 0], Hz=fs)\n",
    "    return taps"
   ]
  },
  {
   "cell_type": "code",
   "execution_count": null,
   "metadata": {},
   "outputs": [],
   "source": [
    "fs = 63.0\n",
    "lowcut = 0.7\n",
    "highcut = 4.0\n",
    "ntaps = 128\n",
    "\n",
    "taps_hamming = bandpass_firwin(ntaps, lowcut, highcut, fs)\n",
    "taps_kaiser16 = bandpass_kaiser(ntaps, lowcut, highcut, fs, width=1.6)\n",
    "taps_kaiser10 = bandpass_kaiser(ntaps, lowcut, highcut, fs, width=1.0)\n",
    "taps_remez = bandpass_remez(ntaps, lowcut, highcut, fs=fs, width=1.0)"
   ]
  },
  {
   "cell_type": "code",
   "execution_count": null,
   "metadata": {},
   "outputs": [],
   "source": [
    "plt.figure()\n",
    "w, h = ss.freqz(taps_hamming, 1, worN=2000)\n",
    "plt.plot(fs * 0.5 / np.pi * w, abs(h), label='Hammingov prozor')\n",
    "w, h = ss.freqz(taps_kaiser16, 1, worN=2000)\n",
    "plt.plot(fs * 0.5 / np.pi * w, abs(h), label='Kaiser, širina = 1.6')\n",
    "w, h = ss.freqz(taps_kaiser10, 1, worN=2000)\n",
    "plt.plot(fs * 0.5/ np.pi * w, abs(h), label='Kaiser, širina = 1.0')\n",
    "w, h = ss.freqz(taps_remez, 1, worN=2000)\n",
    "plt.plot(fs * 0.5 / np.pi * w, abs(h), label=f'Remez, širina = 1.0')\n",
    "h = np.where((fs * 0.5 / np.pi * w < lowcut) | (fs * 0.5 / np.pi * w > highcut), 0, 1)\n",
    "plt.plot(fs * 0.5 / np.pi * w, h, 'k-', label='idealna karakteristika')\n",
    "plt.fill_between(fs * 0.5 / np.pi * w, h, color='gray', alpha=0.1)\n",
    "plt.xlim(0, 8.0)\n",
    "plt.grid()\n",
    "plt.legend(loc='upper right')\n",
    "plt.xlabel('f (Hz)')\n",
    "plt.ylabel('H(f)')\n",
    "plt.show()"
   ]
  },
  {
   "cell_type": "code",
   "execution_count": null,
   "metadata": {},
   "outputs": [],
   "source": []
  }
 ],
 "metadata": {
  "kernelspec": {
   "display_name": "Python 3 (ipykernel)",
   "language": "python",
   "name": "python3"
  },
  "language_info": {
   "codemirror_mode": {
    "name": "ipython",
    "version": 3
   },
   "file_extension": ".py",
   "mimetype": "text/x-python",
   "name": "python",
   "nbconvert_exporter": "python",
   "pygments_lexer": "ipython3",
   "version": "3.9.12"
  }
 },
 "nbformat": 4,
 "nbformat_minor": 4
}
