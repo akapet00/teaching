{
 "cells": [
  {
   "cell_type": "markdown",
   "metadata": {},
   "source": [
    "# Uvod u programsku okolinu `Jupyter Notebook` i programski jezik `Python 3.x` za računalnu elektromagnetsku kompatibilnost\n",
    "\n",
    "## 1. `Jupyter Notebook` i `Jupyter Lab` okruženje\n",
    "\n",
    "Interaktivna analiza digitalne obrade signala kao standardni dio računalne elektromagnetske kompatibilnosti u ovim vježbama bit će realizirana koristeći `jupyter lab` okolinu razvijenu od strane [Project Jupyter](https://jupyter.org/). `Project Jupyter` je *open source* projekt zasnovan na postojećem [IPython](https://ipython.org/) kernelu pri čemu je osnovna ideja Jupyter Lab programskog okruženja mogućnost interaktivne analize istovremeno koristeći podržani programski jezik (`Python`, `Julia` ili `R`) i tekst u *markdown* formatu. Osim toga, osigurana je i vizualna analiza podataka koristeći različite GUI alate već ugrađene u `jupyter`.\n",
    "\n",
    "Instalacija najnovije verzije `Pythona`, `jupyter` jezgre i svih potrebnih paketa je osigurana kroz `Anaconda Team Edition` instalacijski paket (detaljna upustva za instalaciju na linku [ovdje](https://www.anaconda.com/products/individual)). Za slučaj da `Anacondu` koristite u Windows okruženju, pokretanje `jupyter` jezgre se ostvaruje kroz `Anaconda prompt` terminal koji osigurava da je kompletna kofiguracija okruženja pravilno postavljena. \n",
    "\n",
    "Kroz ove laboratorijske vježbe, potrebno je koristiti osnovne funkcionalnosti sljedećih `Python` paketa:\n",
    "- `scipy` - implementacija čestih znanstvenih i statističkih računalnih paradigmi i tehnika. Ovaj paket ćemo posebno koncentrirano promatrati kroz module `scipy.fft` i `scipy.signal`;\n",
    "- `numpy` - numerički `Python` paket za olakšanu manipulaciju nizovima i matricama. Ovaj paket prozilazi iz jezgre `scipy` paketa;\n",
    "- `matplotlib` - paket za vizualizaciju raličitih tipova podataka.\n",
    "\n",
    "Jednom kad je `Anaconda` i svi potrebni paketi instalirani na računalo, pokretanje `jupyter` servera i `lab` klijenta u internetskom pregledniku se ostvaruje ili kroz `Anaconda prompt` terminal (Windows) ili kroz standardni terminal (većina Linux distribucija) sljedećom naredbom:\n",
    "\n",
    "```\n",
    "$ jupyter lab\n",
    "```\n",
    "\n",
    "Na ovaj način pokrećemo server i automatski otvaramo `jupyter lab` sučelje u zadanom internetskom pregledniku.\n",
    "Kao prvi korak potrebno je testirati pravilan rad `lab` sučelja pokretanjem sljeće ćelije naredbom `shift` + `enter`."
   ]
  },
  {
   "cell_type": "code",
   "execution_count": null,
   "metadata": {},
   "outputs": [],
   "source": [
    "x = 2 * 21\n",
    "print(x)"
   ]
  },
  {
   "cell_type": "markdown",
   "metadata": {},
   "source": [
    "Svaka se **bilježnica** (datoteka s nastavkom .ipynb unutar koje se trenutno nalazimo) sastoji od više ulaznih i izlaznih ćelija, gdje ulaz sadrži kôd koji se izvršava, dok pripadna izlazna ćelija prikazuje rezultat izračuna. Važno je napomenuti da ove ćelije podržava kod na jezicima: **Ju**lia, **Pyt**hon ili **R** (imajte na umu ime: **jupyter**), kao i tekst u *markdown* formatu, u HTML-u te u $\\LaTeX$ formatu. Kao takve, bilježnice su izvrstan alat za sastavljanje interaktivnih izračunljivih dokumenata koji se mogu izravno izvesti u HTML ili $\\LaTeX$ / PDF izvješća."
   ]
  },
  {
   "cell_type": "markdown",
   "metadata": {},
   "source": [
    "Novu ulaznu ćeliju se može kreirati ispod položaja kursora ili klikom na gumb `+` u gornjem lijevom izborniku ili pritiskom slova `b` na tipkovnici. Ako uređujete ćeliju, možete pritisnuti `Esc` za ulazak u naredbeni način u kojem možete dodavati, manipulirati ili brisati ćeliju. Da biste izbrisali ćeliju, dvaput pritisnite `d` u naredbenom načinu. Da biste promijenili vrstu ćelije iz koda u *markdown*, pritisnite `m` u naredbenom načinu. Pritisnite `y` da biste ga vratili na kôd. \n",
    "\n",
    "`Python` kôd izvršava temeljna python jezgra, čiji je trenutni status prikazan u gornjem desnom krugu prozora bilježnice. Neispunjeni krug označava da je jezgra trenutno neaktivna. Ako je umjesto kruga prikazan pješčani sat, jezgra je zauzeta računanjem. Ovu pojavu možete promotriti izvršenjem sljedeću ćelije:"
   ]
  },
  {
   "cell_type": "code",
   "execution_count": null,
   "metadata": {},
   "outputs": [],
   "source": [
    "summ = 0\n",
    "for i in range(50000000):\n",
    "    summ += 1\n",
    "print(summ)"
   ]
  },
  {
   "cell_type": "markdown",
   "metadata": {},
   "source": [
    "Važno je napomenuti da je python jezgra jedan interpretirani proces koji sekvencijalno pokreće kôd u ćelijama koje se izvršavaju. To podrazumijeva da redoslijed vašeg izvršavanja određuje trenutno stanje jezgre, tj. koje varijable postoje i koje su vrijednosti tih varijabli. Konkretno, stanje se održava u više ćelija, kao što možete vidjeti u sljedećem primjeru:"
   ]
  },
  {
   "cell_type": "code",
   "execution_count": null,
   "metadata": {},
   "outputs": [],
   "source": [
    "x = 42"
   ]
  },
  {
   "cell_type": "code",
   "execution_count": null,
   "metadata": {},
   "outputs": [],
   "source": [
    "print(x)"
   ]
  },
  {
   "cell_type": "code",
   "execution_count": null,
   "metadata": {},
   "outputs": [],
   "source": [
    "x = 24"
   ]
  },
  {
   "cell_type": "markdown",
   "metadata": {},
   "source": [
    "Ako izvršite dvije ćelije obrnutim redoslijedom, generirali biste pogrešku. To se u početku čini trivijalno, ali za složene bilježnice u kojima izvršavate stanice naprijed-natrag može postati prilično teško razumjeti kakvo je trenutno stanje. Uvijek možete izbrisati trenutno stanje zaustavljam trenutne jezgre."
   ]
  },
  {
   "cell_type": "markdown",
   "metadata": {},
   "source": [
    "## 2. `Python`"
   ]
  },
  {
   "cell_type": "markdown",
   "metadata": {},
   "source": [
    "Učitavanje paketa i pripadnih modula naredbom `import` iza koje slijedi ime paketa, nakon čega opcionalno možemo dodati i naredbu `as` iza koje slijedi alias:"
   ]
  },
  {
   "cell_type": "code",
   "execution_count": null,
   "metadata": {},
   "outputs": [],
   "source": [
    "import numpy as np"
   ]
  },
  {
   "cell_type": "markdown",
   "metadata": {},
   "source": [
    "`Python` je takozvani *dynamic-typed* programski jezik koji ne zahtjeva specificiranje tipova varijabli prikom inicijalizacije. "
   ]
  },
  {
   "cell_type": "code",
   "execution_count": null,
   "metadata": {},
   "outputs": [],
   "source": [
    "x = 42\n",
    "print(type(x))"
   ]
  },
  {
   "cell_type": "markdown",
   "metadata": {},
   "source": [
    "Eksplicitna konverzija tipova već inicijalizirane varijable je moguća na sljedeći način:"
   ]
  },
  {
   "cell_type": "code",
   "execution_count": null,
   "metadata": {},
   "outputs": [],
   "source": [
    "x = float(x)\n",
    "print(type(x))"
   ]
  },
  {
   "cell_type": "code",
   "execution_count": null,
   "metadata": {},
   "outputs": [],
   "source": [
    "x = '42'\n",
    "x = int(x)\n",
    "print(type(x))"
   ]
  },
  {
   "cell_type": "code",
   "execution_count": null,
   "metadata": {},
   "outputs": [],
   "source": [
    "x"
   ]
  },
  {
   "cell_type": "code",
   "execution_count": null,
   "metadata": {},
   "outputs": [],
   "source": [
    "a = '42'\n",
    "b = int(a)\n",
    "print(type(b))"
   ]
  },
  {
   "cell_type": "markdown",
   "metadata": {},
   "source": [
    "Kao što se moglo vidjeti iz prethodna dva primjera, `Python` automatski, tijekom interpretacije koda, varijabli pridjeljuje tip s obzirom na pohranjenu vrijednost. Ako broj $42$ želimo odmah pohraniti kao `float`, to možemo učiniti na sljedeći način:"
   ]
  },
  {
   "cell_type": "code",
   "execution_count": null,
   "metadata": {},
   "outputs": [],
   "source": [
    "x = 42.\n",
    "print(type(x))"
   ]
  },
  {
   "cell_type": "markdown",
   "metadata": {},
   "source": [
    "`Python` podržava i rad sa stringovima:"
   ]
  },
  {
   "cell_type": "code",
   "execution_count": null,
   "metadata": {},
   "outputs": [],
   "source": [
    "s1 = 'some text'\n",
    "s2 = 'additional text with \"quote\"'\n",
    "print(s1)\n",
    "print(s2)"
   ]
  },
  {
   "cell_type": "code",
   "execution_count": null,
   "metadata": {},
   "outputs": [],
   "source": [
    "s3 = \"\"\"This is a very long string \n",
    "that spans\n",
    "multiple\n",
    "lines\n",
    "\"\"\"\n",
    "print(s3)"
   ]
  },
  {
   "cell_type": "markdown",
   "metadata": {},
   "source": [
    "Učestalo ćemo se susretati i sa logičkim tipovima:"
   ]
  },
  {
   "cell_type": "code",
   "execution_count": null,
   "metadata": {},
   "outputs": [],
   "source": [
    "a = True\n",
    "b = False"
   ]
  },
  {
   "cell_type": "code",
   "execution_count": null,
   "metadata": {},
   "outputs": [],
   "source": [
    "if a:\n",
    "    print(b)"
   ]
  },
  {
   "cell_type": "code",
   "execution_count": null,
   "metadata": {},
   "outputs": [],
   "source": [
    "a is True"
   ]
  },
  {
   "cell_type": "code",
   "execution_count": null,
   "metadata": {},
   "outputs": [],
   "source": [
    "a = [1, 2]\n",
    "b = [1, 2]\n",
    "\n",
    "a is b"
   ]
  },
  {
   "cell_type": "code",
   "execution_count": null,
   "metadata": {},
   "outputs": [],
   "source": [
    "id(a)"
   ]
  },
  {
   "cell_type": "code",
   "execution_count": null,
   "metadata": {},
   "outputs": [],
   "source": [
    "id(b)"
   ]
  },
  {
   "cell_type": "code",
   "execution_count": null,
   "metadata": {},
   "outputs": [],
   "source": [
    "a == True"
   ]
  },
  {
   "cell_type": "code",
   "execution_count": null,
   "metadata": {},
   "outputs": [],
   "source": [
    "a == True"
   ]
  },
  {
   "cell_type": "code",
   "execution_count": null,
   "metadata": {},
   "outputs": [],
   "source": [
    "a * b"
   ]
  },
  {
   "cell_type": "code",
   "execution_count": null,
   "metadata": {},
   "outputs": [],
   "source": [
    "a = True\n",
    "b = False\n",
    "(a | b) is (a + b)"
   ]
  },
  {
   "cell_type": "code",
   "execution_count": null,
   "metadata": {},
   "outputs": [],
   "source": [
    "a & b"
   ]
  },
  {
   "cell_type": "code",
   "execution_count": null,
   "metadata": {},
   "outputs": [],
   "source": [
    "a | b"
   ]
  },
  {
   "cell_type": "markdown",
   "metadata": {},
   "source": [
    "Funkcije u `Pythonu` se definiraju koristeći `def` ključnu riječ nakon koje slijedi ime funkcije i opcionalni parametri. Funkcija može i ne mora vraćati jednu ili više vrijednosti:"
   ]
  },
  {
   "cell_type": "code",
   "execution_count": null,
   "metadata": {},
   "outputs": [],
   "source": [
    "def some_function(x, y=42, z='poruka'):\n",
    "    \"\"\"docstring - opis funkcije\"\"\"\n",
    "    print(\"Parameter x =\", x)\n",
    "    print(\"Parameter y =\", y)\n",
    "    print(\"Parameter z =\", z)\n",
    "    return x + y"
   ]
  },
  {
   "cell_type": "code",
   "execution_count": null,
   "metadata": {},
   "outputs": [],
   "source": [
    "some_function(1, 2, 3)"
   ]
  },
  {
   "cell_type": "code",
   "execution_count": null,
   "metadata": {},
   "outputs": [],
   "source": [
    "help(some_function)"
   ]
  },
  {
   "cell_type": "markdown",
   "metadata": {},
   "source": [
    "Prilikom definicije funkcije, i općenito prilikom pisanja koda, moramo imati na umu da je parser osjetljiv na razmake i tabove:"
   ]
  },
  {
   "cell_type": "code",
   "execution_count": null,
   "metadata": {},
   "outputs": [],
   "source": [
    "def additional_function(x, y):\n",
    "    print(x)\n",
    "    sum = x + y\n",
    "    return sum"
   ]
  },
  {
   "cell_type": "markdown",
   "metadata": {},
   "source": [
    "Petlje i kondicionali:"
   ]
  },
  {
   "cell_type": "code",
   "execution_count": null,
   "metadata": {},
   "outputs": [],
   "source": [
    "for x in range(1, 17):\n",
    "    print('x =', x)"
   ]
  },
  {
   "cell_type": "code",
   "execution_count": null,
   "metadata": {},
   "outputs": [],
   "source": [
    "type(range(1, 16))"
   ]
  },
  {
   "cell_type": "code",
   "execution_count": null,
   "metadata": {},
   "outputs": [],
   "source": [
    "list(range(1, 16))"
   ]
  },
  {
   "cell_type": "code",
   "execution_count": null,
   "metadata": {},
   "outputs": [],
   "source": [
    "x = 1\n",
    "while x <= 15:\n",
    "    print(\"x =\", x)   \n",
    "    x = x+1"
   ]
  },
  {
   "cell_type": "code",
   "execution_count": null,
   "metadata": {},
   "outputs": [],
   "source": [
    "x = 3\n",
    "y = 5\n",
    "if x < y:\n",
    "    print(\"x is smaller than y\")\n",
    "elif x > y:\n",
    "    print(\"x is larger than y\")\n",
    "else: \n",
    "    print(\"x and y are equal\")"
   ]
  },
  {
   "cell_type": "markdown",
   "metadata": {},
   "source": [
    "Osnovni podatkovni tip s kojim ćemo se često susretati je lista:"
   ]
  },
  {
   "cell_type": "code",
   "execution_count": null,
   "metadata": {},
   "outputs": [],
   "source": [
    "signal = [2.0, 3.0, 1.0, 0.0, 2.0, 4.0]\n",
    "print(signal)"
   ]
  },
  {
   "cell_type": "markdown",
   "metadata": {},
   "source": [
    "Za razliku od Matlab sintakse, Python sintaksa indeksiranje podatkovnih tipova s više vrijednosti započinje od $0$. ostala pravila indeksiranja su više, manje slična:"
   ]
  },
  {
   "cell_type": "code",
   "execution_count": null,
   "metadata": {},
   "outputs": [],
   "source": [
    "print(signal[0:3])"
   ]
  },
  {
   "cell_type": "code",
   "execution_count": null,
   "metadata": {},
   "outputs": [],
   "source": [
    "sig2 = signal[:-2:]\n",
    "sig2"
   ]
  },
  {
   "cell_type": "code",
   "execution_count": null,
   "metadata": {},
   "outputs": [],
   "source": [
    "print(signal[::2])"
   ]
  },
  {
   "cell_type": "markdown",
   "metadata": {},
   "source": [
    "Vrlo važan koncept su i *list comprehensions*. Npr:\n",
    "\n",
    "$f[n] = 2n^3 + 3n - 4$ pri čemu je $n \\in [0, 10]$\n",
    "\n",
    "u `Pythonu` bi moglo biti dobiveno na sljedeći način:"
   ]
  },
  {
   "cell_type": "code",
   "execution_count": null,
   "metadata": {},
   "outputs": [],
   "source": [
    "f_n = [2*n**3 + 3*n - 4 for n in range(0, 10)]\n",
    "print(f_n)"
   ]
  },
  {
   "cell_type": "markdown",
   "metadata": {},
   "source": [
    "## 2. `NumPy` -  osnove"
   ]
  },
  {
   "cell_type": "code",
   "execution_count": null,
   "metadata": {},
   "outputs": [],
   "source": [
    "import numpy as np"
   ]
  },
  {
   "cell_type": "code",
   "execution_count": null,
   "metadata": {},
   "outputs": [],
   "source": [
    "signal = [0, 1, 2, 3]"
   ]
  },
  {
   "cell_type": "code",
   "execution_count": null,
   "metadata": {},
   "outputs": [],
   "source": [
    "import matplotlib.pyplot as plt \n",
    "\n",
    "plt.plot(signal)"
   ]
  },
  {
   "cell_type": "code",
   "execution_count": null,
   "metadata": {},
   "outputs": [],
   "source": [
    "signal * 2"
   ]
  },
  {
   "cell_type": "code",
   "execution_count": null,
   "metadata": {},
   "outputs": [],
   "source": [
    "amp_signal = [sig*2 for sig in signal]\n",
    "amp_signal"
   ]
  },
  {
   "cell_type": "code",
   "execution_count": null,
   "metadata": {},
   "outputs": [],
   "source": [
    "amp_signal = []\n",
    "for sig in signal:\n",
    "    amp_signal.append(sig * 2)\n",
    "amp_signal"
   ]
  },
  {
   "cell_type": "code",
   "execution_count": null,
   "metadata": {},
   "outputs": [],
   "source": [
    "plt.plot(signal)\n",
    "plt.plot(amp_signal)"
   ]
  },
  {
   "cell_type": "code",
   "execution_count": null,
   "metadata": {},
   "outputs": [],
   "source": [
    "noise = [0.1, -0.21, -0.03, 0.11]\n",
    "signal + noise"
   ]
  },
  {
   "cell_type": "markdown",
   "metadata": {},
   "source": [
    "`NumPy` niz je bitno različit od liste u smislu da predstavlja matematički vektor na kojem možemo izvoditi aritmetičke operacije.\n",
    "\n",
    "Da bismo koristili `NumPy` nizove, prvo moramo definirati korištenje paketa a onda nizove izravno inicijaliziramo koristeći postojeće liste:"
   ]
  },
  {
   "cell_type": "code",
   "execution_count": null,
   "metadata": {},
   "outputs": [],
   "source": [
    "signal"
   ]
  },
  {
   "cell_type": "code",
   "execution_count": null,
   "metadata": {},
   "outputs": [],
   "source": [
    "import numpy as np\n",
    "\n",
    "signal_arr = np.array(signal)\n",
    "noise_arr = np.array(noise)"
   ]
  },
  {
   "cell_type": "code",
   "execution_count": null,
   "metadata": {},
   "outputs": [],
   "source": [
    "signal_arr"
   ]
  },
  {
   "cell_type": "code",
   "execution_count": null,
   "metadata": {},
   "outputs": [],
   "source": [
    "type(signal_arr)"
   ]
  },
  {
   "cell_type": "code",
   "execution_count": null,
   "metadata": {},
   "outputs": [],
   "source": [
    "print(signal_arr)"
   ]
  },
  {
   "cell_type": "code",
   "execution_count": null,
   "metadata": {},
   "outputs": [],
   "source": [
    "signal_arr.ndim"
   ]
  },
  {
   "cell_type": "code",
   "execution_count": null,
   "metadata": {},
   "outputs": [],
   "source": [
    "noisy_signal_arr = signal_arr + noise_arr\n",
    "print(noisy_signal_arr)"
   ]
  },
  {
   "cell_type": "code",
   "execution_count": null,
   "metadata": {},
   "outputs": [],
   "source": [
    "plt.plot(signal_arr*2)"
   ]
  },
  {
   "cell_type": "code",
   "execution_count": null,
   "metadata": {},
   "outputs": [],
   "source": [
    "amp_signal_arr = signal_arr * 2\n",
    "print(amp_signal_arr)"
   ]
  },
  {
   "cell_type": "markdown",
   "metadata": {},
   "source": [
    "Niz predstavlja jednodimenzionalni vektor čiji broj dimenzija odgovara broju elemenata proslijeđene liste. Za promjenu strukture ili dimenzionalnosti numpy niza možemo koristiti metodu `reshape`. "
   ]
  },
  {
   "cell_type": "code",
   "execution_count": null,
   "metadata": {},
   "outputs": [],
   "source": [
    "signal_arr.ndim"
   ]
  },
  {
   "cell_type": "code",
   "execution_count": null,
   "metadata": {},
   "outputs": [],
   "source": [
    "signal_arr.shape"
   ]
  },
  {
   "cell_type": "code",
   "execution_count": null,
   "metadata": {},
   "outputs": [],
   "source": [
    "signal_arr"
   ]
  },
  {
   "cell_type": "code",
   "execution_count": null,
   "metadata": {},
   "outputs": [],
   "source": [
    "signal_arr.reshape(1, 4)"
   ]
  },
  {
   "cell_type": "code",
   "execution_count": null,
   "metadata": {},
   "outputs": [],
   "source": [
    "signal_arr.reshape(-1, 1)"
   ]
  },
  {
   "cell_type": "code",
   "execution_count": null,
   "metadata": {},
   "outputs": [],
   "source": [
    "signal_arr.reshape(2, 2)"
   ]
  },
  {
   "cell_type": "markdown",
   "metadata": {},
   "source": [
    "Slijedeća inicijalizacija generira $3 \\times 3 \\times 3$ tenzor, koji možemo zamisliti kao kocku koja se sastoji od tri sloja dvodimenzionalnih matrica."
   ]
  },
  {
   "cell_type": "code",
   "execution_count": null,
   "metadata": {},
   "outputs": [],
   "source": [
    "tensor = np.array([[[0,1,0],[1,0,1],[1,1,1]], [[0,0,0],[1,0,1],[1,1,0]], [[1,0,0],[0,0,0],[1,1,1]]])\n",
    "print('tensor values: \\n\\n', tensor, end='\\n\\n')\n",
    "print('tensor shape: ', tensor.shape)"
   ]
  },
  {
   "cell_type": "markdown",
   "metadata": {},
   "source": [
    "Sva pravila indeksiranja koja vrijede za liste, vrijede i za `NumPy` nizove, osim sto nam `NumPy` omogućava prelazak u 3 ili više dimenzija."
   ]
  },
  {
   "cell_type": "code",
   "execution_count": null,
   "metadata": {},
   "outputs": [],
   "source": [
    "tensor[1, 1, :]"
   ]
  },
  {
   "cell_type": "code",
   "execution_count": null,
   "metadata": {},
   "outputs": [],
   "source": [
    "tensor[2, :, 0]"
   ]
  },
  {
   "cell_type": "code",
   "execution_count": null,
   "metadata": {},
   "outputs": [],
   "source": [
    "tensor[-1, -1, -2:-1]"
   ]
  },
  {
   "cell_type": "code",
   "execution_count": null,
   "metadata": {},
   "outputs": [],
   "source": [
    "(tensor[2, :, :] == tensor[2]).all()"
   ]
  },
  {
   "cell_type": "markdown",
   "metadata": {},
   "source": [
    "## 2. `Matplotlib` -  osnove"
   ]
  },
  {
   "cell_type": "code",
   "execution_count": null,
   "metadata": {},
   "outputs": [],
   "source": [
    "import numpy as np\n",
    "\n",
    "X = np.linspace(-np.pi, np.pi, 256, endpoint=True)\n",
    "C = np.cos(X)\n",
    "S = np.sin(X)"
   ]
  },
  {
   "cell_type": "markdown",
   "metadata": {},
   "source": [
    "`X` je predstavljen kao `NumPy` niz s 256 vrijednosti u rasponu od $-\\pi$ do iuključeno $+\\pi$. `C` je kosinus (256 vrijednosti), a S je sinus (256 vrijednosti) od `X`."
   ]
  },
  {
   "cell_type": "code",
   "execution_count": null,
   "metadata": {},
   "outputs": [],
   "source": [
    "import matplotlib.pyplot as plt\n",
    "\n",
    "plt.plot(X, C)\n",
    "plt.plot(X, S)"
   ]
  },
  {
   "cell_type": "markdown",
   "metadata": {},
   "source": [
    "`Matplotlib` dolazi sa skupom zadanih postavki koje omogućuju prilagodbu raznih svojstava. U `matplotlibu` možete kontrolirati zadane postavke: veličine slike i DPI, širinu linije, boju i stil, osi, svojstva osi i mreže, svojstva teksta i fonta itd. Iako su zadane postavke `matplotliba` u većini slučajeva prilično dobre, možda ćete htjeti izmijeniti neka svojstva za određene slučajeve (pogotovo kada je riječ u izvještajima, znanstvenim člancima ili modernim web orjentiranim preglednicima vizualizacija)."
   ]
  },
  {
   "cell_type": "code",
   "execution_count": null,
   "metadata": {},
   "outputs": [],
   "source": [
    "plt.figure(figsize=(9, 6), dpi=80)\n",
    "plt.plot(X, C, color='blue', linewidth=2.5, linestyle='-', label='cos(x)')\n",
    "plt.plot(X, S, color='red',  linewidth=2.5, linestyle='-', label='sin(x)')\n",
    "\n",
    "t = 2*np.pi/4\n",
    "plt.plot([t,t],[0,np.cos(t)], color ='blue', linewidth=1.5, linestyle=\"--\")\n",
    "plt.scatter([t,],[np.cos(t),], 50, color ='blue')\n",
    "\n",
    "plt.annotate(r'$\\sin(\\frac{2\\pi}{3})=\\frac{\\sqrt{3}}{2}$',\n",
    "             xy=(t, np.sin(t)), xycoords='data',\n",
    "             xytext=(+45, -30), textcoords='offset points', fontsize=16,\n",
    "             arrowprops=dict(arrowstyle=\"->\", connectionstyle=\"arc3,rad=.2\"))\n",
    "\n",
    "plt.plot([t,t],[0,np.sin(t)], color ='red', linewidth=1.5, linestyle=\"--\")\n",
    "plt.scatter([t,],[np.sin(t),], 50, color ='red')\n",
    "\n",
    "plt.annotate(r'$\\cos(\\frac{2\\pi}{3})=-\\frac{1}{2}$',\n",
    "             xy=(t, np.cos(t)), xycoords='data',\n",
    "             xytext=(-90, -50), textcoords='offset points', fontsize=16,\n",
    "             arrowprops=dict(arrowstyle=\"->\", connectionstyle=\"arc3,rad=.2\"))\n",
    "\n",
    "plt.xticks([-np.pi, -np.pi/2, 0, np.pi/2, np.pi],\n",
    "       [r'$-\\pi$', r'$-\\pi/2$', r'$0$', r'$+\\pi/2$', r'$+\\pi$'])\n",
    "plt.yticks([-1, 0, +1],\n",
    "       [r'$-1$', r'$0$', r'$+1$'])\n",
    "plt.grid()\n",
    "plt.legend(loc='upper left', frameon=False)\n",
    "plt.show()"
   ]
  },
  {
   "cell_type": "code",
   "execution_count": null,
   "metadata": {},
   "outputs": [],
   "source": []
  }
 ],
 "metadata": {
  "kernelspec": {
   "display_name": "Python 3",
   "language": "python",
   "name": "python3"
  },
  "language_info": {
   "codemirror_mode": {
    "name": "ipython",
    "version": 3
   },
   "file_extension": ".py",
   "mimetype": "text/x-python",
   "name": "python",
   "nbconvert_exporter": "python",
   "pygments_lexer": "ipython3",
   "version": "3.8.5"
  }
 },
 "nbformat": 4,
 "nbformat_minor": 4
}
