{
 "cells": [
  {
   "cell_type": "markdown",
   "metadata": {},
   "source": [
    "# 3. laboratorijska vježba\n",
    "### Pasivni visoko-propusni filtri\n",
    "\n",
    "Realizacija visoko-propusnog filtra u ovom slučaju se ostvaruje korištenjem otpornika i zavojnice povezanih u seriju, pri čemu se izlaz promatra kao napon na zavojnici, $V_{out}$ Uz pretpostavku da je signal na ulazu, $V_{in}$, sinusoidalni naponski izvor, analizu možemo prebaciti u frekvencijsku domenu koristeći impedancijski model. Na ovaj način izbjegavamo potrebu za korištenjem diferencijalnog računa i čitav proračun se svodi na jednostavni algebarski problem. \n",
    "\n",
    "<img src=\"static/rl-highpass.png\" alt=\"simple-rl-highpass\" width=\"400\"/>\n",
    "\n",
    "Izraz za funkciju prijenosnog odziva dobijamo kao omjer izlaznog i ulaznog napona. Izlazni napon - napon na zavojnici, $V_{out}$, definiramo kroz podjelu ulaznog napona na sljedeći način:\n",
    "\n",
    "$$\n",
    "\\begin{align}\n",
    "    V_{out} &= \\frac{Z_l}{Z_l + Z_r} \\cdot V_{in} \\\\\n",
    "    H(\\omega) = \\frac{V_{out}}{V_{in}} &= \\frac{Z_l}{Z_l + Z_r} = \\frac{j\\omega L}{j\\omega L + R} = \\frac{1}{1+R/(j\\omega L)}\n",
    "\\end{align}\n",
    "$$\n",
    "\n",
    "Kako je $H$ funkcija frekvencije, imamo dva ruba slučaja:\n",
    "* za iznimno niske frekvencije kada je $\\omega \\sim 0$ slijedi da je $H(\\omega) \\rightarrow 0$;\n",
    "* za iznimno visoke frekvencije kada $\\omega \\rightarrow \\infty$ slijedi da je $H(\\omega) = 0$.\n",
    "\n",
    "Potrebno je dodatno definirati već spomenutu *cut-off* frekvenciju, $f_c$, za koju amplituda funkcije frekvencijskog odziva, $H$, pada za $\\sqrt 2$ puta, odnosno za $3$ dB:\n",
    "$$\n",
    "\\begin{align}\n",
    "    f_c &= \\frac{R}{2 \\pi L}\n",
    "\\end{align}\n",
    "$$\n",
    "\n",
    "Link za interaktivni rad sa pasivnim visoko-propusnim filtrom: http://sim.okawa-denshi.jp/en/LRtool.php"
   ]
  },
  {
   "cell_type": "code",
   "execution_count": null,
   "metadata": {},
   "outputs": [],
   "source": [
    "import matplotlib.pyplot as plt\n",
    "import numpy as np"
   ]
  },
  {
   "cell_type": "code",
   "execution_count": null,
   "metadata": {},
   "outputs": [],
   "source": [
    "def rl_highpass(R, L, f):\n",
    "    return 1/(1+1/(1.0j*2*np.pi*f*L/R))"
   ]
  },
  {
   "cell_type": "code",
   "execution_count": null,
   "metadata": {},
   "outputs": [],
   "source": [
    "# configuration\n",
    "R = 200\n",
    "L = 100e-3\n",
    "f = np.linspace(0.1, 10000, num=10000)\n",
    "omega = 2*np.pi*f\n",
    "f_cutoff = R/(2*np.pi*L)\n",
    "omega_cutoff = 2*np.pi*f_cutoff\n",
    "\n",
    "print(f'R = {R/1000} kΩ')\n",
    "print(f'L = {L*1000} mH')\n",
    "print(f'frequency range = [{f.min()}-{f.max()}] Hz')\n",
    "print(f'frequency cut-off = {round(f_cutoff, 1)} Hz')"
   ]
  },
  {
   "cell_type": "code",
   "execution_count": null,
   "metadata": {},
   "outputs": [],
   "source": [
    "H = np.abs(rl_highpass(R, L, f))\n",
    "H_db = 20*np.log10(H)\n",
    "\n",
    "### visualization\n",
    "fig, ax = plt.subplots(nrows=2, ncols=2, figsize=(12, 8))\n",
    "\n",
    "## absolutue value of frequency response function\n",
    "# shown in log scale\n",
    "ax[0,0].plot(omega, H, label='Frequency response')\n",
    "ax[0,0].plot(omega_cutoff, 1/np.sqrt(2), 'o', label='Cut-off point')\n",
    "ax[0,0].vlines(omega_cutoff, H.min(), 1/np.sqrt(2), linestyle='--')\n",
    "ax[0,0].annotate(f'$f_c = {round(f_cutoff, 3)}$ Hz\\n$H(f_c)={round(1/np.sqrt(2), 3)}$', (omega_cutoff*1.2, 1/np.sqrt(2)*0.8))\n",
    "ax[0,0].set_xscale('log')\n",
    "ax[0,0].set_ylabel('$| V_{out}$ / $V_{in}$ |')\n",
    "ax[0,0].set_title('log scale')\n",
    "ax[0,0].legend()\n",
    "ax[0,0].grid()\n",
    "# shown in lin scale\n",
    "ax[0,1].plot(omega, H, label='Frequency response')\n",
    "ax[0,1].annotate(f'$f_c = {round(f_cutoff, 3)}$ Hz\\n$H(f_c)={round(1/np.sqrt(2), 3)}$', (omega_cutoff*1.2, 1/np.sqrt(2)*0.8))\n",
    "ax[0,1].plot(omega_cutoff, 1/np.sqrt(2), 'o', label='Cut-off point')\n",
    "ax[0,1].set_title('lin scale')\n",
    "ax[0,1].legend()\n",
    "ax[0,1].grid()\n",
    "## frequency response function in dB\n",
    "# shown in log scale\n",
    "ax[1,0].plot(omega, H_db, label='Frequency response')\n",
    "ax[1,0].vlines(omega_cutoff, H_db.min(), H_db.max()-3, linestyle='--')\n",
    "ax[1,0].annotate(f'$f_c = {round(f_cutoff, 3)}$ Hz\\n$H(f_c)={round(H_db.max()-3, 3)} dB$', (omega_cutoff*1.2, (H_db.max()-3)*5))\n",
    "ax[1,0].plot(omega_cutoff, H_db.max()-3, 'o', label='Cut-off point')\n",
    "ax[1,0].set_xscale('log')\n",
    "ax[1,0].set_xlabel('$\\\\omega$ [rad/s]')\n",
    "ax[1,0].set_ylabel('$20 \\\\cdot \\\\log$ | $V_{out}$ / $V_{in}$ |')\n",
    "ax[1,0].legend()\n",
    "ax[1,0].grid()\n",
    "# shown in lin scale\n",
    "ax[1,1].plot(omega, H_db, label='Frequency response')\n",
    "ax[1,1].annotate(f'$f_c = {round(f_cutoff, 3)}$ Hz\\n$H(f_c)={round(H_db.max()-3, 3)} dB$', (omega_cutoff*1.2, (H_db.max()-3)*5))\n",
    "ax[1,1].plot(omega_cutoff, H_db.max()-3, 'o', label='Cut-off point')\n",
    "ax[1,1].set_xlabel('$\\\\omega$ [rad/s]')\n",
    "ax[1,1].legend()\n",
    "ax[1,1].grid()\n",
    "\n",
    "plt.tight_layout()\n",
    "plt.show()"
   ]
  },
  {
   "cell_type": "markdown",
   "metadata": {},
   "source": [
    "### Strujno-naponska karakteristika RL visoko-propusnog filtra"
   ]
  },
  {
   "cell_type": "code",
   "execution_count": null,
   "metadata": {},
   "outputs": [],
   "source": [
    "V = 5\n",
    "I_peak = V/R\n",
    "τ = L/R\n",
    "switch_time = τ * 4.4\n",
    "T = 2 * switch_time\n",
    "t = np.linspace(0, T)"
   ]
  },
  {
   "cell_type": "code",
   "execution_count": null,
   "metadata": {},
   "outputs": [],
   "source": [
    "I = np.where(t < switch_time, I_peak*(1-np.exp((-R/L)*t)), I_peak*np.exp((-R/L)*(t-switch_time)))"
   ]
  },
  {
   "cell_type": "code",
   "execution_count": null,
   "metadata": {},
   "outputs": [],
   "source": [
    "f = 1/T\n",
    "omega = 2*np.pi*f\n",
    "i = I_peak*np.sin(omega*t)"
   ]
  },
  {
   "cell_type": "code",
   "execution_count": null,
   "metadata": {},
   "outputs": [],
   "source": [
    "plt.figure(figsize=(9, 5))\n",
    "plt.plot(t, I, label='current')\n",
    "plt.plot(t, i, label='on-off cycle')\n",
    "plt.plot([t.min(), switch_time, t.max()], [0, 0, 0], 'rx', label='switch points')\n",
    "plt.text(t.min() + 1e-4, I.min() + 1e-3, 'on')\n",
    "plt.text(switch_time + 1e-4, I.min() + 1e-3, 'off')\n",
    "plt.text(t.max(), I.min() + 1e-3, 'on')\n",
    "plt.hlines(0, t.min(), t.max())\n",
    "plt.vlines(switch_time, i.min(), i.max())\n",
    "plt.xlabel('$t$ [s]')\n",
    "plt.ylabel('$i(t)$ [A]')\n",
    "plt.legend()\n",
    "plt.grid()\n",
    "plt.show()"
   ]
  },
  {
   "cell_type": "markdown",
   "metadata": {},
   "source": [
    "### Pojasno propusni filtri\n",
    "Sljedeći kod koristi više različitih tipova pojasno-propusnih filtara (Hamming, Kaiser, Remez) i uspoređuje ih s idealnom prijenosnom funkcijom."
   ]
  },
  {
   "cell_type": "code",
   "execution_count": null,
   "metadata": {},
   "outputs": [],
   "source": [
    "from scipy.signal import freqz\n",
    "from scipy.signal import firwin, remez, kaiser_atten, kaiser_beta\n",
    "\n",
    "\n",
    "def bandpass_firwin(ntaps, lowcut, highcut, fs, window='hamming'):\n",
    "    nyq = 0.5 * fs\n",
    "    taps = firwin(ntaps, [lowcut, highcut], nyq=nyq, pass_zero=False, window=window, scale=False)\n",
    "    return taps\n",
    "\n",
    "\n",
    "def bandpass_kaiser(ntaps, lowcut, highcut, fs, width):\n",
    "    nyq = 0.5 * fs\n",
    "    atten = kaiser_atten(ntaps, width / nyq)\n",
    "    beta = kaiser_beta(atten)\n",
    "    taps = firwin(ntaps, [lowcut, highcut], nyq=nyq, pass_zero=False, window=('kaiser', beta), scale=False)\n",
    "    return taps\n",
    "\n",
    "def bandpass_remez(ntaps, lowcut, highcut, fs, width):\n",
    "    delta = 0.5 * width\n",
    "    edges = [0, lowcut - delta, lowcut + delta, highcut - delta, highcut + delta, 0.5*fs]\n",
    "    taps = remez(ntaps, edges, [0, 1, 0], Hz=fs)\n",
    "    return taps\n",
    "\n",
    "\n",
    "fs = 63.0\n",
    "lowcut = 0.7\n",
    "highcut = 4.0\n",
    "\n",
    "ntaps = 128\n",
    "taps_hamming = bandpass_firwin(ntaps, lowcut, highcut, fs=fs)\n",
    "taps_kaiser16 = bandpass_kaiser(ntaps, lowcut, highcut, fs=fs, width=1.6)\n",
    "taps_kaiser10 = bandpass_kaiser(ntaps, lowcut, highcut, fs=fs, width=1.0)\n",
    "remez_width = 1.0\n",
    "taps_remez = bandpass_remez(ntaps, lowcut, highcut, fs=fs, width=remez_width)\n",
    "\n",
    "plt.figure(figsize=(9, 5))\n",
    "w, h = freqz(taps_hamming, 1, worN=2000)\n",
    "plt.plot(fs*0.5/np.pi*w, np.abs(h), label=\"Hamming window\")\n",
    "\n",
    "w, h = freqz(taps_kaiser16, 1, worN=2000)\n",
    "plt.plot(fs*0.5/np.pi*w, np.abs(h), label='Kaiser window, width=1.6')\n",
    "\n",
    "w, h = freqz(taps_kaiser10, 1, worN=2000)\n",
    "plt.plot(fs*0.5/np.pi*w, np.abs(h), label='Kaiser window, width = 1.0')\n",
    "\n",
    "w, h = freqz(taps_remez, 1, worN=2000)\n",
    "plt.plot(fs*0.5/np.pi*w, np.abs(h), label=f'Remez algorithm, width = {remez_width}')\n",
    "\n",
    "h = np.where((fs*0.5/np.pi*w < lowcut) | (fs*0.5/np.pi*w > highcut), 0, 1)\n",
    "plt.plot(fs*0.5/np.pi*w, h, 'k-', label='ideal response')\n",
    "plt.fill_between(fs*0.5/np.pi*w, h, color='gray', alpha=0.1, label='ideal response')\n",
    "\n",
    "plt.xlim(0, 10.0)\n",
    "plt.grid(True)\n",
    "plt.legend(loc='upper right')\n",
    "plt.xlabel('$f$ (Hz)')\n",
    "plt.ylabel('$H(f)$')\n",
    "plt.show()"
   ]
  }
 ],
 "metadata": {
  "kernelspec": {
   "display_name": "Python 3",
   "language": "python",
   "name": "python3"
  },
  "language_info": {
   "codemirror_mode": {
    "name": "ipython",
    "version": 3
   },
   "file_extension": ".py",
   "mimetype": "text/x-python",
   "name": "python",
   "nbconvert_exporter": "python",
   "pygments_lexer": "ipython3",
   "version": "3.8.5"
  }
 },
 "nbformat": 4,
 "nbformat_minor": 4
}
