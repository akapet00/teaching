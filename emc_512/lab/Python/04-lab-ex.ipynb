{
 "cells": [
  {
   "cell_type": "markdown",
   "metadata": {},
   "source": [
    "# 4. laboratorijska vježba\n",
    "### Hodgkin-Huxley model neurona\n",
    "\n",
    "---\n",
    "Refs.\n",
    "* Hodgkin A. L.; Huxley, A. F. [A quantitative description of membrane current and its application to conduction and excitation in nerve](https://physiology.arizona.edu/sites/default/files/hodgkinhuxley1952_0.pdf), 1952.\n",
    "* Eugene M. Izhikevich. [Which Model to Use for Cortical Spiking Neurons?](https://ieeexplore.ieee.org/stamp/stamp.jsp?tp=&arnumber=1333071&tag=1), 2004.\n",
    "* Lv, M.; Wang, C.; Ren, G.; Ma, J.; Song, X. [Model of electrical activity in a neuron under magnetic flow effect](https://link.springer.com/article/10.1007/s11071-016-2773-6), 2016.\n",
    "* Lv, M.; Ma, J. [Multiple modes of electrical activities in a new neuron model under electromagnetic radiation](https://www.sciencedirect.com/science/article/abs/pii/S0925231216302892?via%3Dihub), 2016.\n",
    "* Wu, F.; Wang C.; Jin, W.; Ma, J. [Dynamical responses in a new neuron model subjected to electromagnetic induction and phase noise](https://www.sciencedirect.com/science/article/abs/pii/S0378437116308615?via%3Dihub), 2017.\n",
    "* Ma, J.; Tang, J. [A review for dynamics in neuron and neuronal network](https://link.springer.com/article/10.1007/s11071-017-3565-3), 2017.\n",
    "* Lu, L.; Kirunda, J. B.; Xu, Y.; Kang, W.; Ye, R.; Zhan, X.; Jia, Y. [Effects of temperature andelectromagnetic induction on actionpotential of Hodgkin–Huxley model](https://link.springer.com/article/10.1140%2Fepjst%2Fe2018-700140-1), 2018.\n",
    "* Yang, Y.; Ma, J.; Xu, Y. [Energy dependence on discharge mode of Izhikevich neuron driven by external stimulus under electromagnetic induction](https://link.springer.com/article/10.1007%2Fs11571-020-09596-4#Sec2), 2020.\n",
    "---\n",
    "Hodgkin-Huxley model neurona je dinamički vremenski kontinuirani sustav koji opisuje inicijalizaciju **akcijskog potencijala** pojedinog neurona a zatim i njegovu propagaciju kroz neuron. Model je nastao provođenjem niza eksperimenata na velikom aksonu neurona lignje u kojem su pronađene tri različita tipa ionskih struja: Natrij (Na), Kalij (K) i struja propuštanja (eng. *leakage current*) koja se sastoji od, uglavnom, Kalcijevih (Cl) iona. Naponski kontrolirani kanali kroz koje teku spomenute struje reguliraju količinu iona koji mogu proteći kroz neuronsku membranu - kontroliraju kompletnu struju kroz akson."
   ]
  },
  {
   "cell_type": "markdown",
   "metadata": {},
   "source": [
    "<center><img src=\"static/biological-neuron-model.png\" alt=\"biological-neuron-model\" width=\"400\"/></center>\n",
    "<center>Slika 1: biološki model neurona</center>\n",
    "<center>~ Izvor <a href=\"https://en.wikipedia.org/wiki/Biological_neuron_model#/media/File:Neuron3.png\">Wikipedia ~</a></center>"
   ]
  },
  {
   "cell_type": "markdown",
   "metadata": {},
   "source": [
    "Akcijski potencijal je incijaliziran naglom promjenom membranskog potencijala na pojedinoj lokaciji neurona. Membranski potencijal, prikazan na slici 2, predstavlja razliku električnog potencijala između inter i ekstra staničnog potencijala. U slučaju neurona uobičajen raspon je između $-40$ mV i $-80$ mV."
   ]
  },
  {
   "cell_type": "markdown",
   "metadata": {},
   "source": [
    "<center><img src=\"static/membrane-potential.png\" alt=\"membrane-potential\" width=\"400\"/></center>\n",
    "<center>Slika 2: membranski potencijal</center>\n",
    "<center>~ Izvor <a href=\"https://en.wikipedia.org/wiki/Membrane_potential#/media/File:Basis_of_Membrane_Potential2.png\">Wikipedia ~</a></center>"
   ]
  },
  {
   "cell_type": "markdown",
   "metadata": {},
   "source": [
    "Prvotna depolarizacija na promatranom neuronu potom uzrokuje depolarizaciju susjednih lokacija i posljedično lančanu pojavu promjene potencijala. Akcijski potencijal možemo promatrati kao informaciju koja se prenosi od preko aksona jednog neurona do sinaptičkih veza s kojima je povezan s drugim neuronom a zatim i kroz akson drugog neurona. Akcijski potencijali se često nazivaju neuronski impulsi, pri čemu niz impulsa u vremenu predstavlja neuronsku aktivnost. Ovisnost akcijskog potencijala u neuronu u vremenu je prikazan na slici 3."
   ]
  },
  {
   "cell_type": "markdown",
   "metadata": {},
   "source": [
    "<center><img src=\"static/action-potential.gif\" alt=\"action-potential-animation\" width=\"400\"/></center>\n",
    "<center>Slika 3: akcijski potencijal</center>\n",
    "<center>~ Izvor <a href=\"https://en.wikipedia.org/wiki/Action_potential#/media/File:Action_Potential.gif\">Wikipedia ~</a></center>"
   ]
  },
  {
   "cell_type": "markdown",
   "metadata": {},
   "source": [
    "Incijalnu naglu promjenu membranskog potencijala uzrokuju specijalni tipovi naponski usmjerenih ionskih kanala unutar neurona. Ti su kanali zatvoreni kad je membranski potencijal blizu potencijala mirovanja, ali se brzo počinju otvarati ako se membranski potencijal poveća na definirani prag napona, depolarizirajući transmembranski potencijal. Kad se kanali otvore, unutarnji protok Na iona je omogućen, ali se time mijenja elektrokemijski gradijent. Ova pojava uzrokuje daljnji porast membranskog potencijala prema nuli time uzrokujući otvaranje više kanala, proizvodeći veću električnu struju kroz staničnu membranu. Postupak se odvija eksplozivno sve dok se ne otvore svi dostupni ionski kanali, što rezultira velikim porastom membranskog potencijala. Brzi priljev Na iona uzrokuje da se polaritet plazmatske membrane preokrene, a ionski kanali se zatim brzo inaktiviraju. Kako se Na ionski kanali zatvaraju, Na ioni više ne mogu ući u neuron, a zatim se aktivno transportiraju natrag iz plazmatske membrane. Tada se aktiviraju K ionski kanali i stvori se vanjska struja K iona, vraćajući elektrokemijski gradijent u stanje mirovanja. Nakon što je došlo do pojave akcijskog potencijala, dolazi do prolaznog negativnog pomaka, koji se naziva posthiperpolarizacija."
   ]
  },
  {
   "cell_type": "markdown",
   "metadata": {},
   "source": [
    "<center><img src=\"static/ion-channels.png\" alt=\"ion-channels\" width=\"400\"/></center>\n",
    "<center>Slika 4: prikaz ionskih kanala</center>\n",
    "<center>~ Izvor <a href=\"https://en.wikipedia.org/wiki/Voltage-gated_ion_channel#/media/File:Open_and_closed_conformations_of_ion_channels.png\">Wikipedia ~</a></center>"
   ]
  },
  {
   "cell_type": "markdown",
   "metadata": {},
   "source": [
    "Model kojeg promatramo temelji se na teoriji prijenosnih linija (eng. *cable theory*) i realizira se kao set četiri sparene nelinearne diferencijalne jednadžbe. Ovakav model osigurava dobru aproksimaciju električnih karakteristika neuronske aktivnosti i električnu konfiguraciju neurona općenito, koristeći distribuirane pasivne električne komponente čija električka svojstva nisu ovisna o vremenu. Slika ispod prikazuje osnovnu determinističku izvedbu Hodgkin-Huxley modela:"
   ]
  },
  {
   "cell_type": "markdown",
   "metadata": {},
   "source": [
    "<center><img src=\"static/hodgkin-huxley-model.svg\" alt=\"hodgkin-huxley-model\" width=\"400\"/></center>\n",
    "<center>Slika 5: električni krug s raspodijeljenim parametrima kao jednostavni model neurona</center>\n",
    "<center>~ Izvor <a href=\"https://en.wikipedia.org/wiki/Hodgkin%E2%80%93Huxley_model#/media/File:Hodgkin-Huxley.svg\">Wikipedia ~</a></center>"
   ]
  },
  {
   "cell_type": "markdown",
   "metadata": {},
   "source": [
    "Lipidni dvosloj, koji izgrađuje neuronsku membranu, je predstavljen kao kondenzator uz pripadni kapacitet po kvadradtnom centimetru, $C_m$. Naponsko-usmjereni i propusni (eng. *leak*) ionski kanali su redom predstavljeni kroz vodljivosti $g_n$ i $g_L$. Elektrokemijski gradijenti koji definiraju protok iona kroz neuron su predstavljeni kao reverzni naponski izvori strujnog kruga, $E_n$ i $E_L$. Ionske pumpe su predstavljene kao strujni izvor, $I_p$.\n",
    "\n",
    "Ukoliko je membranski potencijal definiran kroz iznos $V_m$, za struju koja prolazi kroz  lipidni dvosloj vrijedi:\n",
    "\n",
    "$$\n",
    "I_c = C_m \\frac{d V_m}{dt}\n",
    "$$\n",
    "\n",
    "dok za struju koja prolazi kroz $i$-ti ionski kanal vrijedi:\n",
    "\n",
    "$$\n",
    "I_i = g_i (V_m - E_i)\n",
    "$$\n",
    "\n",
    "pri čemu je $E_i$ reverzni potencijal $i$-tog ionskog kanala.\n",
    "\n",
    "Kako ćemo kroz ove laboratorijske vježe razmatrati neuron sa Na i K ionskim kanalima, ukupna struja kroz membranu se može zapisati, koristeći Kirchoffov zakon, kao:\n",
    "\n",
    "$$\n",
    "I = C_m \\frac{d V_m}{dt} + g_K (V_m - E_K) + g_{Na} (V_m - E_{Na}) + g_L (V_m - E_L)\n",
    "$$\n",
    "\n",
    "a promjena membranskog potencijala se iz prethodnog izraza može izvesti koristeći sljedeću formulaciju:\n",
    "\n",
    "$$\n",
    "C_m \\frac{d V_m}{dt} = I - g_K (V_m - E_K) - g_{Na} (V_m - E_{Na}) - g_L (V_m - E_L)\n",
    "$$\n",
    "\n",
    "Elementi $V_m$, $g_{Na}$ i $g_{K}$ su vremenski ovisni, pri čemu vodljivosti $g_{Na}$ i $g_{K}$ osim o vremenu, ovise i o membranskom naponu. "
   ]
  },
  {
   "cell_type": "markdown",
   "metadata": {},
   "source": [
    "Izniman doprinos istraživanja vođenog od strane Hodgkina i Huxleya je bio uspješno izmjerena efikasnost vodljivosti ionskih kanala kao funkcija ovisnih o vremenu i naponu membrane. Dvojac je za ovo otkriće dobio i Nobelovu nagradu za fiziologiju ili medicinu 1963. godine. Hodgkin i Hexley su uveli dodatna tri aktivacijska parametra $m$, $n$ i $h$ koji su omogućili realizaciju matematičkog modela promatranih pojava. Aktivacijski parametri se mogu promatrati kao vjerojatnost da će ionski kanal biti propusan u određenom trenutku s obzirom na napon. Linearna kombinacija $m$ i $h$ parametara kontrolira Na ionski kanal, dok parametar $n$ kontrolira K ionski kanal. Prethodni izraz za struju kroz dvoslojni lipid se sada može realizirati koristeći formulaciju:\n",
    "\n",
    "$$ \n",
    "I = C_m \\frac{d V_m}{dt} + \\bar g_K \\cdot n^4 \\cdot (V_m - E_K) + \\bar g_{Na} \\cdot m^4 \\cdot h \\cdot (V_m - E_{Na}) + g_L (V_m - E_L)\n",
    "$$\n",
    "\n",
    "pri čemu linija iznad svake vodljivosti označava maksimalnu vodljivost za promatrani tip ionskog kanala.\n",
    "Dinamika aktivacijskih parametara, $n$, $m$ i $h$, je opisana kroz jednadžbe:\n",
    "\n",
    "$$\n",
    "\\begin{align}\n",
    "\\frac{dn}{dt} &= \\alpha_n(V_m)(1 - n) - \\beta_n(V_m) n \\\\\n",
    "\\frac{dm}{dt} &= \\alpha_m(V_m)(1 - m)  - \\beta_m(V_m) m \\\\\n",
    "\\frac{dh}{dt} &= \\alpha_h(V_m)(1 - h) - \\beta_h(V_m) h\n",
    "\\end{align}\n",
    "$$\n",
    "\n",
    "Parametri $\\alpha_n$, $\\alpha_m$, $\\alpha_h$ te $\\beta_n$, $\\beta_m$ i $\\beta_h$ predstavljaju stopu otvaranja/zatvaranja ionskih kanala i ovise o naponu na membrani:\n",
    "\n",
    "$$\n",
    "\\begin{align}\n",
    "\\alpha_n(V_m) = \\frac{0.01(10-V_m )}{\\exp\\big(\\frac{10-V_m}{10}\\big)-1} &\\quad \\alpha_m(V_m) = \\frac{0.1(25-V_m)}{\\exp\\big(\\frac{25-V_m}{10}\\big)-1} &\\quad \\alpha_h(V_m) = 0.07\\exp\\bigg(\\frac{-V_m}{20}\\bigg)\\\\\n",
    "\\beta_n(V_m) = 0.125\\exp\\bigg(\\frac{-V_m}{80}\\bigg) &\\quad  \\beta_m(V_m) = 4\\exp\\bigg(\\frac{-V_m}{18}\\bigg) &\\quad \\beta_h(V_m) = \\frac{1}{\\exp\\big(\\frac{30-V_m}{10}\\big) + 1}\n",
    "\\end{align}\n",
    "$$\n",
    "\n",
    "Iznimno bitan faktor u neuronskom sustavu je i temperatura, koja utječe na kinetiku ionskih kanala i, posljedično, utječe na akcijski potencijal. Prethodno prikazane formulacije bazirane na parametrima $\\alpha_n$, $\\alpha_m$, $\\alpha_h$ te $\\beta_n$, $\\beta_m$ i $\\beta_h$ koji predstavljaju stopu otvaranja i zatvaranja ionskih kanala su baždarene na konstantnoj temperaturi od $6.3$ °C. Parametri stope otvaranja/zatvaranja su osim o naponu na membrani ovisni i o temperaturi na sljedeći način:\n",
    "\n",
    "$$\n",
    "\\begin{align}\n",
    "\\alpha_n(V_m, T) = \\frac{0.01\\phi(T)(10-V_m )}{\\exp\\big(\\frac{10-V_m}{10}\\big)-1} &\\quad \\alpha_m(V_m, T) = \\frac{0.1\\phi(T)(25-V_m)}{\\exp\\big(\\frac{25-V_m}{10}\\big)-1} &\\quad \\alpha_h(V_m, T) = 0.07\\phi(T)\\exp\\bigg(\\frac{-V_m}{20}\\bigg)\\\\\n",
    "\\beta_n(V_m, T) = 0.125\\phi(T)\\exp\\bigg(\\frac{-V_m}{80}\\bigg) &\\quad  \\beta_m(V_m, T) = 4\\phi(T)\\exp\\bigg(\\frac{-V_m}{18}\\bigg) &\\quad \\beta_h(V_m, T) = \\frac{\\phi(T)}{\\exp\\big(\\frac{30-V_m}{10}\\big) + 1}\n",
    "\\end{align}\n",
    "$$\n",
    "\n",
    "gdje je:\n",
    "\n",
    "$$\n",
    "\\phi(T) = 3^{(T - 6.3)/10}\n",
    "$$"
   ]
  },
  {
   "cell_type": "code",
   "execution_count": null,
   "metadata": {},
   "outputs": [],
   "source": [
    "import matplotlib.pyplot as plt\n",
    "import numpy as np\n",
    "\n",
    "from src.neuron_model import HodgkinHuxley"
   ]
  },
  {
   "cell_type": "code",
   "execution_count": null,
   "metadata": {},
   "outputs": [],
   "source": [
    "\"\"\"empirical values for HH model parameters\"\"\"\n",
    "C_m = 1.0       # membrane capacitance [F/cm^2]\n",
    "g_Na = 120.0    # Sodium (Na) maximum conductances [mS/cm^2]\n",
    "g_K  = 36.0     # Postassium (K) maximum conductances [mS/cm^2]\n",
    "g_L  = 0.3      # Leak maximum conductances [mS/cm^2]\n",
    "E_Na = 50.0     # Sodium (Na) reversal potentials [mV]\n",
    "E_K  = -77.0    # Postassium (K) reversal potentials [mV]\n",
    "E_L  = -54.387  # Leak reversal potentials [mV]\n",
    "\n",
    "\"\"\"injected current density [uA/cm^2]\"\"\"\n",
    "I_inj = lambda t: 10*(t>5) - 10*(t>30) + 10*(t>50) - 10*(t>70)\n",
    "\n",
    "\"\"\"temperature of the environment in which the neuron is located [°C]\"\"\"\n",
    "T = 16.3\n",
    "\n",
    "\"\"\"[V_m(t=0), m(t=0), h(t=0), n(t=0)]\"\"\"\n",
    "initial_conds = [-65, 0.0529, 0.5916, 0.3177]\n",
    "\n",
    "\"\"\"simulation time [ms]\"\"\"\n",
    "t = np.arange(0.0, 120.0, 0.01)"
   ]
  },
  {
   "cell_type": "code",
   "execution_count": null,
   "metadata": {},
   "outputs": [],
   "source": [
    "model = HodgkinHuxley(C_m, g_Na, g_K, g_L, E_Na, E_K, E_L, I_inj, T)\n",
    "V, m, h, n, ina, ik, il, iinj = model.simulate(\n",
    "    initial_conds,\n",
    "    t,\n",
    "    ret=True,\n",
    "    viz=True, \n",
    "    solver='odeint')"
   ]
  },
  {
   "cell_type": "code",
   "execution_count": null,
   "metadata": {},
   "outputs": [],
   "source": [
    "fig, ax = plt.subplots(nrows=1, ncols=3, figsize=(12, 5))\n",
    "ax[0].plot(V, m, label='$m(V)$')\n",
    "ax[0].hlines(0, V.min(), V.max())\n",
    "ax[0].annotate('$m$', (1, 1.01*m.max()))\n",
    "ax[0].vlines(0, 0, m.max())\n",
    "ax[0].annotate('$V$ [mV]', (V.max()-15, 0.03))\n",
    "ax[0].legend()\n",
    "ax[0].grid()\n",
    "ax[1].plot(V, h, label='$h(V)$')\n",
    "ax[1].hlines(0, V.min(), V.max())\n",
    "ax[1].annotate('$h$', (1, 1.01*h.max()))\n",
    "ax[1].vlines(0, 0, h.max())\n",
    "ax[1].annotate('$V$ [mV]', (V.max()-15, 0.03))\n",
    "ax[1].legend()\n",
    "ax[1].grid()\n",
    "ax[2].plot(V, n, label='$n(V)$')\n",
    "ax[2].hlines(0, V.min(), V.max())\n",
    "ax[2].annotate('$n$', (1, 1.01*n.max()))\n",
    "ax[2].vlines(0, 0, n.max())\n",
    "ax[2].annotate('$V$ [mV]', (V.max()-15, 0.03))\n",
    "ax[2].legend()\n",
    "ax[2].grid()\n",
    "plt.tight_layout()\n",
    "plt.show()"
   ]
  },
  {
   "cell_type": "code",
   "execution_count": null,
   "metadata": {},
   "outputs": [],
   "source": []
  }
 ],
 "metadata": {
  "kernelspec": {
   "display_name": "Python 3",
   "language": "python",
   "name": "python3"
  },
  "language_info": {
   "codemirror_mode": {
    "name": "ipython",
    "version": 3
   },
   "file_extension": ".py",
   "mimetype": "text/x-python",
   "name": "python",
   "nbconvert_exporter": "python",
   "pygments_lexer": "ipython3",
   "version": "3.8.5"
  }
 },
 "nbformat": 4,
 "nbformat_minor": 4
}
