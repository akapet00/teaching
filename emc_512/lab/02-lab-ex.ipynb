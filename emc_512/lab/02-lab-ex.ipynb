{
 "cells": [
  {
   "cell_type": "markdown",
   "metadata": {},
   "source": [
    "# 2. laboratorijska vježba"
   ]
  },
  {
   "cell_type": "code",
   "execution_count": null,
   "metadata": {},
   "outputs": [],
   "source": [
    "# učitvanje potrebnih biblioteka\n",
    "\n",
    "import numpy as np\n",
    "import matplotlib.pyplot as plt\n",
    "import scipy.signal as ss"
   ]
  },
  {
   "cell_type": "code",
   "execution_count": null,
   "metadata": {},
   "outputs": [],
   "source": [
    "#@title pomoćna funkcija\n",
    "# izvršite ovu ćeliju ali se ne opterećujte detaljima implementacije\n",
    "\n",
    "def plot_frequency_response(f, Hm, fc=None, ylim_min=None):\n",
    "    \"\"\"Grafički prikaz prijenosne funkcije filtra.\n",
    "    \n",
    "    Args\n",
    "        f (numpy.ndarray) : frekvencije\n",
    "        Hm (numpy.ndarray) : apsolutne vrijednosti prijenosne funkcije\n",
    "        fc (number) : cutoff frekvencija\n",
    "        ylim_min (number): minimalna vrijednost na y-osi za dB skalu\n",
    "\n",
    "    Returns\n",
    "        (matplotlib.figure.Figure, matplotlib.axes._subplots.AxesSubplot)\n",
    "    \"\"\"\n",
    "    Hc = 1 / np.sqrt(2)\n",
    "    if fc is None:\n",
    "        fc_idx = np.where(np.isclose(Hm, Hc, rtol=1e-03))[0][0]\n",
    "        fc = f[fc_idx]\n",
    "    H_db = 20 * np.log10(Hm)\n",
    "    \n",
    "    fig, ax = plt.subplots(nrows=2, ncols=2, figsize=(12, 7.5))\n",
    "\n",
    "    ax[0, 0].plot(f, Hm, label='$H(f)$')\n",
    "    ax[0, 0].plot(fc, Hc, 'o', label='$H(f_c)$')\n",
    "    ax[0, 0].vlines(fc, Hm.min(), Hc, linestyle='--')\n",
    "    ax[0, 0].annotate(f'$f_c = {fc:.3f}$ Hz\\n$H(f_c)={Hc:.3f}$', (fc * 1.4, Hc))\n",
    "    ax[0, 0].set_xscale('log')\n",
    "    ax[0, 0].set_ylabel('$|V_{out}$ / $V_{in}$|')\n",
    "    ax[0, 0].set_title('log scale')\n",
    "    ax[0, 0].legend(loc='lower left')\n",
    "    ax[0, 0].grid()\n",
    "    \n",
    "    ax[0, 1].plot(f, Hm, label='$H(f)$')\n",
    "    ax[0, 1].plot(fc, Hc, 'o', label='$H(f_c)$')\n",
    "    ax[0, 1].annotate(f'$f_c = {fc:.3f}$ Hz\\n$H(f_c)={Hc:.3f}$', (fc * 1.4, Hc))\n",
    "    ax[0, 1].set_title('linear scale')\n",
    "    ax[0, 1].legend()\n",
    "    ax[0, 1].grid()\n",
    "\n",
    "    ax[1, 0].plot(f, H_db, label='$H_{dB}(f)$')\n",
    "    ax[1, 0].plot(fc, H_db.max() - 3, 'o', label='$H_{dB}(f_c)$')\n",
    "    ax[1, 0].vlines(fc, H_db.min(), H_db.max() - 3, linestyle='--')\n",
    "    ax[1, 0].annotate(f'$f_c = {fc:.3f}$ Hz\\n$H(f_c)={H_db.max() - 3:.3f} dB$',\n",
    "                      (fc * 1.4, H_db.max() - 3))\n",
    "    ax[1, 0].set_xscale('log')\n",
    "    ax[1, 0].set_xlabel('$f$ [Hz]')\n",
    "    ax[1, 0].set_ylabel('$20 \\\\cdot \\\\log$ |$V_{out}$ / $V_{in}$|')\n",
    "    if ylim_min:\n",
    "        ax[1, 0].set_ylim((ylim_min, 10))\n",
    "    ax[1, 0].legend(loc='lower left')\n",
    "    ax[1, 0].grid()\n",
    "\n",
    "    ax[1, 1].plot(f, H_db, label='$H_{dB}(f)$')\n",
    "    ax[1, 1].plot(fc, H_db.max() - 3, 'o', label='$H_{dB}(f_c)$')\n",
    "    ax[1, 1].annotate(f'$f_c = {fc:.3f}$ Hz\\n$H(f_c)={H_db.max() - 3:.3f} dB$',\n",
    "                      (fc * 1.4, H_db.max() - 3))\n",
    "    ax[1, 1].set_xlabel('$f$ [Hz]')\n",
    "    if ylim_min:\n",
    "        ax[1, 1].set_ylim((ylim_min, 10))\n",
    "    ax[1, 1].legend()\n",
    "    ax[1, 1].grid()\n",
    "\n",
    "    fig.tight_layout\n",
    "    return fig, ax"
   ]
  },
  {
   "cell_type": "markdown",
   "metadata": {},
   "source": [
    "## Električni filtri\n",
    "\n",
    "Općenito, filtar u domeni elektromagnetske kompatibilnosti, kao i kroz ovaj kolegij, promatramo kao model električnog kruga definiranog koristeći koncentrirane parametre. Signal s ulaza se oblikuje na način da njegove komponente pri određenim frekvencijama filtar propušta bez izobličenja (u teoriji), dok na drugim frekvencijama komponente uopće ne propušta (u teoriji, u stvarnosti dolazi do jače ili slabije atenuacije). Selektivno propuštanje signala se radi ponajprije kako bi se potisnule ili u potpunosti otklonile neželjene komponente signala.\n",
    "\n",
    "S obzirom na frekvencijski pojas propusta, filtre dijelimo u osnovne kategorije:\n",
    "1. nisko-propusni filtri - propuštaju se sve frekvencije signala ispod tzv. *cutoff* frekvencije;\n",
    "2. visoko-propusni filtri - propuštaju se sve frekvencije signala iznad *cutoff* frekvencije;\n",
    "3. pojasno-propusni filtri - propušta se definirani frekvencijski opseg;\n",
    "4. pojasno-nepropusni filtri - ne propušta se određeni frekvencijski opseg.\n",
    "\n",
    "S obzirom na tip koncentriranih parametara, odnosno komponenti koje koristimo kako bismo računalno modelirali rad filtra, filtre dijelimo na dodatne kategorije:\n",
    "1. aktivni filtri - realizirani uz pomoć aktivnih komponenti (tranzistori i operacijska pojačala);\n",
    "2. pasivni filtri - realizirani uz pomoć pasivnih komponenti (otpornici, kondenzatori i zavojnice).\n",
    "\n",
    "### Pasivni nisko-propusni filtar\n",
    "\n",
    "Realizacija nisko-propusnog filtra u ovim laboratorijskim vježbama se ostvaruje korištenjem otpornika i kondenzatora povezanih u seriju, pri čemu se izlaz promatra kao napon na kondenzatoru, $V_{out}$. Uz pretpostavku da je signal na ulazu, $V_{in}$, sinusoidalni naponski izvor, analizu možemo prebaciti u frekvencijsku domenu koristeći impedancijski model. Na ovaj način zaobilazimo potrebu korištenja diferencijalnog i čitav problem svodimo na jednostavni algebarski proračun.\n",
    "\n",
    "<center>\n",
    "<img src=\"https://upload.wikimedia.org/wikipedia/commons/thumb/e/e0/1st_Order_Lowpass_Filter_RC.svg/1920px-1st_Order_Lowpass_Filter_RC.svg.png\" alt=\"simple-rc-lowpass\" width=\"300\"/>\n",
    "</center>\n",
    "    \n",
    "Napon na kondenzatoru, $V_{out}$, definiramo kroz podjelu ulaznog napona:\n",
    "\n",
    "$$\n",
    "\\begin{align}\n",
    "    V_{out} &= \\frac{Z_c}{Z_c + Z_r} \\cdot V_{in} \\\\\n",
    "    \\frac{V_{out}}{V_{in}} &= \\frac{Z_c}{Z_c + Z_r} = \\frac{1/(j\\omega C)}{1/(j\\omega C) + R} = \\frac{1}{1 + j\\omega C R}\n",
    "\\end{align}\n",
    "$$\n",
    "\n",
    "Dobiveni odnos izlaznog i ulaznog napona se naziva **funkcija prijenosnog odziva**, $H$, u stacionarnom stanju:\n",
    "\n",
    "$$\n",
    "H(\\omega) = \\frac{V_{out}}{V_{in}} = \\frac{1}{1 + j\\omega C R}\n",
    "$$\n",
    "\n",
    "Kako je $H$ funkcija frekvencije, imamo dva rubna slučaja:\n",
    "* za iznimno niske frekvencije kada je $\\omega \\sim 0$ slijedi da je $H(\\omega) = 1$;\n",
    "* za iznimno visoke frekvencije kada $\\omega \\rightarrow \\infty$ slijedi da je $H(\\omega) \\rightarrow 0$.\n",
    "\n",
    "Potrebno je dodatno definirati već spomenutu *cutoff* frekvenciju, $f_c$, za koju amplituda funkcije frekvencijskog odziva, $H$, pada za $\\sqrt 2$ puta, odnosno za $3$ dB:\n",
    "\n",
    "$$\n",
    "\\begin{align}\n",
    "    \\frac{H(\\omega)}{\\sqrt 2} &= \\frac{1}{1 + j\\omega_c C R} \\\\\n",
    "    \\omega_c &= \\frac{1}{CR} \\\\\n",
    "    f_c &= \\frac{1}{2\\pi CR}\n",
    "\\end{align}\n",
    "$$\n",
    "\n",
    "Link za interaktivni rad s pasivnim nisko-propusnim filtrom: http://sim.okawa-denshi.jp/en/CRtool.php\n",
    "\n",
    "#### Zadatak 1\n",
    "\n",
    "Prvi zadatak je implementirati funkciju `cutoff_frequency` koja na ulazu prima iznose otpora, `R`, i kapaciteta, `C`, a na izlazu daje *cutoff* frekvenciju nisko-propusnog filtra."
   ]
  },
  {
   "cell_type": "code",
   "execution_count": null,
   "metadata": {},
   "outputs": [],
   "source": [
    "def cutoff_frequency(R, C):\n",
    "    \"\"\"Cutoff frekvencija nisko-propusnog filtra.\n",
    "    \n",
    "    Args:\n",
    "        R (number) : vrijednost otpora otpornika\n",
    "        C (number) : kapacitet kondenzatora\n",
    "    \n",
    "    Returns:\n",
    "        number\n",
    "    \"\"\"\n",
    "    #######################################################\n",
    "    ## TO-DO: implementiraj proračun cutoff frekvencije ##\n",
    "    # Nakon toga zakomentiraj sljedeću liniju.\n",
    "    raise NotImplementedError('Implementiraj proračun cutoff frekvencije.')\n",
    "    #######################################################\n",
    "\n",
    "    # definiraj cutoff frekvenciju\n",
    "    fc = ...\n",
    "    return fc"
   ]
  },
  {
   "cell_type": "markdown",
   "metadata": {},
   "source": [
    "Kolika je *cutoff* frekvencija za otpor od $4.5 k \\Omega$ i kapacitet kondenzatora od $7 \\mu F$?"
   ]
  },
  {
   "cell_type": "code",
   "execution_count": null,
   "metadata": {},
   "outputs": [],
   "source": [
    "R = ...  # otpor u Ohm\n",
    "C = ...  # kapacitet u F\n",
    "\n",
    "fc = ...  # cutoff frekvencija\n",
    "\n",
    "print(f'R = {R / 1000:.2f} kΩ')\n",
    "print(f'C = {C * 10**6:.2f} µF')\n",
    "print(f'cutoff frekvencija iznosi {fc:.2f} Hz, '\n",
    "      'očekivana vrijednost je 5.05 Hz')"
   ]
  },
  {
   "cell_type": "markdown",
   "metadata": {},
   "source": [
    "#### Zadatak 2\n",
    "\n",
    "Drugi zadatak je implementirati funkciju `rc_lowpass` koja na ulazu prima iznose otpora, `R`, kapaciteta, `C`, i frekvenciju, `f`, a na izlazu daje prijenosni odziv nisko-propusnog filtra."
   ]
  },
  {
   "cell_type": "code",
   "execution_count": null,
   "metadata": {},
   "outputs": [],
   "source": [
    "def rc_lowpass(R, C, f):\n",
    "    \"\"\"Funkcija prijenosnog odziva RC nisko-propusnog filtra.\n",
    "    \n",
    "    Args:\n",
    "        R (number) : vrijednost otpora otpornika\n",
    "        C (number) : kapacitet kondenzatora\n",
    "        f (number or numpy.ndarray) : frekvencija/e\n",
    "    \n",
    "    Returns:\n",
    "        float or numpy.ndarray\n",
    "    \"\"\"\n",
    "    ######################################################\n",
    "    ## TO-DO: implementiraj funkciju prijenosnog odziva ##\n",
    "    # Nakon toga zakomentiraj sljedeću liniju.\n",
    "    raise NotImplementedError('Implementiraj funckiju prijenosnog odziva.')\n",
    "    ######################################################\n",
    "\n",
    "    # definiraj funkciju prijenosnog pazeći da `f` može biti ili broj (int,\n",
    "    # float) ili 1-D niz (`numpy.ndarray`)\n",
    "    H = ...\n",
    "    return H"
   ]
  },
  {
   "cell_type": "markdown",
   "metadata": {},
   "source": [
    "Kolika je vrijednost prijenosne funkcije pri *cutoff* frekvencija za otpor od $4.5 k \\Omega$ i kapacitet kondenzatora od $7 \\mu F$?"
   ]
  },
  {
   "cell_type": "code",
   "execution_count": null,
   "metadata": {},
   "outputs": [],
   "source": [
    "R = ...  # otpor u Ohm\n",
    "C = ...  # kapacitet u F\n",
    "\n",
    "Hc = ...  # prijenosna funkcija pri cutoff frekvenciji\n",
    "\n",
    "print(f'R = {R / 1000:.2f} kΩ')\n",
    "print(f'C = {C * 10**6:.2f} µF')\n",
    "print(f'pojačanje pri cutoff frekvenciji iznosi {abs(Hc):.4f}, '\n",
    "      'očekivana vrijednost je 1/√2\\n\\n'\n",
    "      'provjerite ispravnost dobivenog rezutltata')"
   ]
  },
  {
   "cell_type": "code",
   "execution_count": null,
   "metadata": {},
   "outputs": [],
   "source": [
    "# ćelija za provjeru rezultata\n",
    "\n"
   ]
  },
  {
   "cell_type": "markdown",
   "metadata": {},
   "source": [
    "Pretvorite vrijednost prijenosne funkcije pri *cutoff* frekvenciju u decibele i uvjerite se u tvrdnju da amplituda funkcije frekvencijskog odziva, $H$, pada za $3$ dB pri *cutoff* frekvenciji."
   ]
  },
  {
   "cell_type": "code",
   "execution_count": null,
   "metadata": {},
   "outputs": [],
   "source": [
    "Hc_dB = ...  # pretvorba prijenosne funkcije pri cutoff frekvenciji u dB skalu\n",
    "print(Hc_dB)"
   ]
  },
  {
   "cell_type": "markdown",
   "metadata": {},
   "source": [
    "Za raspon od $10000$ vrijednosti frekvencija do $100 Hz$ te za otpor od $4.5 k\\Omega$ i kapacitet kondenzatora od $7 \\mu F$, izračunajte vrijednosti prijenosne funkcije."
   ]
  },
  {
   "cell_type": "code",
   "execution_count": null,
   "metadata": {},
   "outputs": [],
   "source": [
    "f = ...  # raspon frekvencija od 0 do 100 Hz\n",
    "\n",
    "H = rc_lowpass(R, C, f)  # prijenosna funkcija"
   ]
  },
  {
   "cell_type": "markdown",
   "metadata": {},
   "source": [
    "S obzirom da su vrijednosti prijenosne funkcije kompleksne veličine, razmilite što je potrebno napraviti s njima prije nego ih grafički prikažemo?"
   ]
  },
  {
   "cell_type": "code",
   "execution_count": null,
   "metadata": {},
   "outputs": [],
   "source": [
    "Hm = ...  # konverzija u apsolutne vrijednosti"
   ]
  },
  {
   "cell_type": "markdown",
   "metadata": {},
   "source": [
    "Vizualizirajte ovisnost prijenosne funkcije o frekvenciji koristeći `matplotlib` i funkciju `matplotlib.pyplot.plot`."
   ]
  },
  {
   "cell_type": "code",
   "execution_count": null,
   "metadata": {},
   "outputs": [],
   "source": [
    "plt.plot(...)  # prvi argument su vrijednosti na x-osi, drugi argument vrijednosti na y-osi\n",
    "plt.xlabel('f')\n",
    "plt.ylabel('H(f)')\n",
    "plt.show()"
   ]
  },
  {
   "cell_type": "markdown",
   "metadata": {},
   "source": [
    "Vizualizirajte sada rezultate koristeći već implementiranu funkciju `plot_frequency_response`.\n",
    "\n",
    "Napomena: za provjeru načina korištenja prethodne funkcije koristite sljedeću naredbu:\n",
    "\n",
    "```python\n",
    "help(plot_frequency_response)\n",
    "```\n",
    "\n",
    "ili jednostavno\n",
    "\n",
    "```python\n",
    "plot_frequency_response?\n",
    "```"
   ]
  },
  {
   "cell_type": "code",
   "execution_count": null,
   "metadata": {},
   "outputs": [],
   "source": [
    "# provjerite način korištenja funkcije\n",
    "\n"
   ]
  },
  {
   "cell_type": "code",
   "execution_count": null,
   "metadata": {},
   "outputs": [],
   "source": [
    "fig, ax = plot_frequency_response(...)  # grafički prikaz dobivenih rezultata"
   ]
  },
  {
   "cell_type": "markdown",
   "metadata": {},
   "source": [
    "### Analiza spektra\n",
    "\n",
    "Primjenom Fourierove transformacije, signal možemo promatrati u frekvencijskog domeni, tj., signal postaje funkcija frekvencije. Reprezentacija signala kroz frekvencijske komponente je posebice važna ukoliko na raspolaganju imamo mjerenja uz prisustvo velike količine šuma koji želimo filtrirati. U pravilu, frekvencijske komponente čistog signala su višestruko dominantnije u odnosu na komponente šuma.\n",
    "\n",
    "#### Zadatak 3\n",
    "\n",
    "Promotri funkciju generatora sinusnog signala uz prisustvo šuma `signal_samples` koja prima vremensku seriju trenutaka u kojima želimo generirati signal."
   ]
  },
  {
   "cell_type": "code",
   "execution_count": null,
   "metadata": {},
   "outputs": [],
   "source": [
    "def signal_samples(t):\n",
    "    \"\"\"Generator sinusnog signala uz prisustvo šuma.\n",
    "    \n",
    "    Args:\n",
    "        t (number or numpy.ndarray) : vrijeme u kojem generiramo signal\n",
    "    \n",
    "    Returns:\n",
    "        numpy.ndarray\n",
    "    \"\"\"\n",
    "    signal = 2 * np.sin(2 * np.pi * t) + 3 * np.sin(22 * 2 * np.pi * t)\n",
    "    noise = 2 * np.random.randn(*np.shape(t))\n",
    "    return signal + noise"
   ]
  },
  {
   "cell_type": "markdown",
   "metadata": {},
   "source": [
    "Imajući u vidu karakteristike zadanog signala, definiraj frekvenciju sempliranja, $f_s$, pazeći pritom na zadovoljavanje Nyquistovog teorema (frekvencija sempliranja mora biti barem 2 puta veća od najviše frekvencija signala). Postavi rezoluciju frekvencijskog spektra, $\\Delta f$). na $0.01 Hz$, i prema tome definiraj ukupan broj semplova koji odgovara periodu signala ($T = N / f_s$)."
   ]
  },
  {
   "cell_type": "code",
   "execution_count": null,
   "metadata": {},
   "outputs": [],
   "source": [
    "B = ...  # pojasna širina\n",
    "fs = 2 * B  # frekvencija sempliranja\n",
    "delta_f = ...  # rezolucija frekvencijskog spektra\n",
    "N = int(...)  # broj semplova\n",
    "T = ...  # period"
   ]
  },
  {
   "cell_type": "markdown",
   "metadata": {},
   "source": [
    "Kreiraj vremensku domenu i definiraj vrijednosti signala za svaki od trenutaka."
   ]
  },
  {
   "cell_type": "code",
   "execution_count": null,
   "metadata": {},
   "outputs": [],
   "source": [
    "t = ...\n",
    "f_t = signal_samples(t)\n",
    "\n",
    "# vizual\n",
    "fig, ax = plt.subplots(1, 2, figsize=(12, 3), sharey=True)\n",
    "ax[0].plot(t, f_t)\n",
    "ax[0].set_xlabel('$t$ [s]')\n",
    "ax[0].set_ylabel('signal')\n",
    "ax[1].plot(t, f_t)\n",
    "ax[1].set_xlim(0, 5)\n",
    "ax[1].set_xlabel('$t$ [s]');"
   ]
  },
  {
   "cell_type": "markdown",
   "metadata": {},
   "source": [
    "Proračunaj spektralne komponente signala koristeći `np.fft.fft` funkciju."
   ]
  },
  {
   "cell_type": "code",
   "execution_count": null,
   "metadata": {},
   "outputs": [],
   "source": [
    "F = np.fft.fft(...)  # Fourierov transformat signala u vremenu\n",
    "f = np.fft.fftfreq(N, 1.0/fs)  # odgovarajuće frekvencije\n",
    "mask = np.where(f >= 0)  # s obzirom na simetričnost, promatramo samo pozitivne frekvencije\n",
    "\n",
    "# vizual\n",
    "fig, ax = plt.subplots(3, 1, figsize=(12, 6))\n",
    "ax[0].plot(f[mask], np.log(abs(F[mask])), label='real')\n",
    "ax[0].plot(B, 0, 'r*', markersize=10)\n",
    "ax[0].set_ylabel('$\\log(|F|)$', fontsize=14)\n",
    "ax[1].plot(f[mask], abs(F[mask])/N, label='real')\n",
    "ax[1].set_xlim(0, 2)\n",
    "ax[1].set_ylabel('$|F|/N$', fontsize=14)\n",
    "ax[2].plot(f[mask], abs(F[mask])/N, label='real')\n",
    "ax[2].set_xlim(21, 23)\n",
    "ax[2].set_xlabel('$f$ [Hz]')\n",
    "ax[2].set_ylabel('$|F|/N$');"
   ]
  },
  {
   "cell_type": "markdown",
   "metadata": {
    "tags": []
   },
   "source": [
    "### Butterworthov filtar\n",
    "\n",
    "Butterworthov filtar vrsta je filtra za obradu signala dizajnirana tako da je frekvencijski odziv što je moguće ravniji u propusnom opsegu. \n",
    "\n",
    "<center>\n",
    "<img src=\"https://upload.wikimedia.org/wikipedia/commons/thumb/d/dc/LowPass3poleICauer.svg/1920px-LowPass3poleICauer.svg.png\" alt=\"butterworth\" width=\"500\"/>\n",
    "</center>\n",
    "\n",
    "Funkcija prijenosnog odziva, $H$, niskopropusnog Butterworth filtra trećeg reda (Cauer, ljestvasta topologija), prikazanog na slici poviše, ima sljedeći oblik:\n",
    "\n",
    "$$H(s) = \\frac{V_{out}(s)}{V_{in}(s)} = \\frac{R_4}{s^3(L_1 C_2 L_3) + s^2(L_1 C_2 R_4) + s(L_1 + L_3) + R_4}$$\n",
    "\n",
    "Ukoliko zadržimo istu *cutoff* frekvenciju kao i u prvom primjeru, funkcija Butterworthovog filtra će, kao glavnu prednost, imati puno strmiju granicu propusnog i nepropusnog frekvencijskog područja (ovisno o redu filtra)."
   ]
  },
  {
   "cell_type": "code",
   "execution_count": null,
   "metadata": {},
   "outputs": [],
   "source": [
    "f = np.linspace(0, 100, 10000)  # raspon frekvencija od 0 do 100 Hz\n",
    "fc = cutoff_frequency(R, C)  # cutoff frekvencija\n",
    "fs = 1000  # frekvencija uzorkovanja\n",
    "fs_nyq = 0.5 * fs  # Nyquistova frekvencija\n",
    "fc_norm = fc / fs_nyq  # normalizirana cutoff frekvencija\n",
    "order = 3  # red filtra\n",
    "\n",
    "b, a = ss.butter(order, fc_norm, btype='low')  # brojnik i nazivnik IIR filtra\n",
    "f_norm, H = ss.freqz(b, a, worN=f.size)  # normalizirane frekvencije i prijenosna funkcija filtra\n",
    "f_denorm = f_norm / np.pi * fs_nyq  # rekonstruirane frekvencije\n",
    "Hm = abs(H)  # apsolutna vrijednost prijenosne funkcije filtra"
   ]
  },
  {
   "cell_type": "code",
   "execution_count": null,
   "metadata": {},
   "outputs": [],
   "source": [
    "fig, ax = plot_frequency_response(f_denorm, Hm, fc, ylim_min=-80)  # grafički prikaz dobivenih rezultata"
   ]
  },
  {
   "cell_type": "markdown",
   "metadata": {},
   "source": [
    "#### Zadatak 3\n",
    "\n",
    "Implementiraj funkciju generatora sinusnog signala `signal_generator` koja prima vremensku seriju trenutaka u kojima želimo generirati signal, amplitudu signala, željenu frekvenciju signala, i razinu šuma koji se nadodaje signalu."
   ]
  },
  {
   "cell_type": "code",
   "execution_count": null,
   "metadata": {},
   "outputs": [],
   "source": [
    "def signal_generator(t, A, f, noise_factor):\n",
    "    \"\"\"Generator sinusnog signala.\n",
    "    \n",
    "    Args:\n",
    "        t (number or numpy.ndarray) : vrijeme u kojem generiramo signal\n",
    "        A (number) : amplituda signala\n",
    "        f (number) : frekvencija signala\n",
    "        noise_factor (number) : razina šuma \n",
    "    \n",
    "    Returns:\n",
    "        tuple\n",
    "    \"\"\"\n",
    "    ######################################################\n",
    "    ## TO-DO: implementiraj funkciju generatora signala ##\n",
    "    # Nakon toga zakomentiraj sljedeću liniju.\n",
    "    raise NotImplementedError('Implementiraj funkciju generatora signala.')\n",
    "    ######################################################\n",
    "\n",
    "    # definiraj sinusni signal amplitude `A` za svaki `t`\n",
    "    signal = ...\n",
    "    \n",
    "    # definiraj bijeli šum skaliran za `noise_factor`\n",
    "    noise = ...\n",
    "    \n",
    "    # konačni signal = suma signala i šuma\n",
    "    noisy_signal = ...\n",
    "    return signal, noisy_signal"
   ]
  },
  {
   "cell_type": "markdown",
   "metadata": {},
   "source": [
    "Generiraj sinusni signal i signal uz prisustvo šuma frekvencije $1 Hz$ u trajanju od $5$ sekunda, koristeći frekvenciju uzorkovanja od $30 Hz$. Amplituda signala neka bude $2$ a amplituda šuma $1$."
   ]
  },
  {
   "cell_type": "code",
   "execution_count": null,
   "metadata": {},
   "outputs": [],
   "source": [
    "T = ...  # ukupno trajanje signala\n",
    "fs = ...  # frekvencija uzorkovanja\n",
    "A = ...  # amplituda signala\n",
    "f = ...  # frekvencija signala\n",
    "noise_factor = ...  # amplituda bijelog šuma\n",
    "t = np.linspace(0, T, T * fs)  # trenuci u kojima generiramo signal\n",
    "\n",
    "signal, noisy_signal = signal_generator(t, A, f, noise_factor)"
   ]
  },
  {
   "cell_type": "markdown",
   "metadata": {},
   "source": [
    "Grafički prikaži ovisnost signala i signala uz prisustvo šuma u vremenu."
   ]
  },
  {
   "cell_type": "code",
   "execution_count": null,
   "metadata": {},
   "outputs": [],
   "source": [
    "plt.plot(..., label='originalni signal')\n",
    "plt.plot(..., label='mjereni signal uz prisustvo šuma')\n",
    "plt.xlabel('t')\n",
    "plt.ylabel('signal')\n",
    "plt.legend()\n",
    "plt.grid()\n",
    "plt.show()"
   ]
  },
  {
   "cell_type": "code",
   "execution_count": null,
   "metadata": {},
   "outputs": [],
   "source": [
    "def butter_filter(noisy_signal, fc, fs, order=3):\n",
    "    \"\"\"Butterworthov nisko-propusni filtar.\n",
    "    \n",
    "    Args:\n",
    "        noisy_signal (numpy.ndarray) : signal uz prisustvo šuma\n",
    "        fc (number) : cutoff frekvencija\n",
    "        fs (number) : frekvencija uzorkovanja signala\n",
    "        order (int) : red filtra\n",
    "    \n",
    "    Returns:\n",
    "        numpy.ndarray\n",
    "    \"\"\"\n",
    "    fs_nyq = 0.5 * fs\n",
    "    fc_norm = fc / fs_nyq\n",
    "    b, a = ss.butter(order, fc_norm, btype='low')\n",
    "    filtered_signal = ss.filtfilt(b, a, noisy_signal)\n",
    "    return filtered_signal"
   ]
  },
  {
   "cell_type": "markdown",
   "metadata": {},
   "source": [
    "Filtriraj signal uz prisustvo šuma koristeći funkciju `butter_filter`. Mijenjaj *cutoff* frekvenciju dok ne dobiješ zadovoljavajuću rekonstrukciju signala. Počni s vrijednošću dobivenu za RC nisko-propusni filtar iz prvog zadatka."
   ]
  },
  {
   "cell_type": "code",
   "execution_count": null,
   "metadata": {},
   "outputs": [],
   "source": [
    "fc = ...  # proizvoljna cutoff frekvencija\n",
    "\n",
    "filtered_signal = butter_filter(noisy_signal, fc, fs)"
   ]
  },
  {
   "cell_type": "markdown",
   "metadata": {},
   "source": [
    "Grafički prikaz ovisnost signala i signala uz prisustvo šuma u vremenu."
   ]
  },
  {
   "cell_type": "code",
   "execution_count": null,
   "metadata": {},
   "outputs": [],
   "source": [
    "plt.plot(t, signal, label='originalni signal')\n",
    "plt.plot(t, noisy_signal, label='mjereni signal uz prisustvo šuma')\n",
    "plt.plot(t, filtered_signal, label='filtrirani signal')\n",
    "plt.xlabel('t')\n",
    "plt.ylabel('signal')\n",
    "plt.legend()\n",
    "plt.grid()\n",
    "plt.show()"
   ]
  },
  {
   "cell_type": "markdown",
   "metadata": {},
   "source": [
    "Za koju *cutoff* frekvenciju dobivate optimalnu rekonstrukciju signala? Komentirajte rezultate."
   ]
  },
  {
   "cell_type": "markdown",
   "metadata": {},
   "source": [
    "Zaključak:\n"
   ]
  }
 ],
 "metadata": {
  "kernelspec": {
   "display_name": "Python 3 (ipykernel)",
   "language": "python",
   "name": "python3"
  },
  "language_info": {
   "codemirror_mode": {
    "name": "ipython",
    "version": 3
   },
   "file_extension": ".py",
   "mimetype": "text/x-python",
   "name": "python",
   "nbconvert_exporter": "python",
   "pygments_lexer": "ipython3",
   "version": "3.9.12"
  }
 },
 "nbformat": 4,
 "nbformat_minor": 4
}
