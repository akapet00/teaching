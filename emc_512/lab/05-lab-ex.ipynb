{
 "cells": [
  {
   "cell_type": "code",
   "execution_count": null,
   "id": "nutritional-renewal",
   "metadata": {},
   "outputs": [],
   "source": [
    "import os\n",
    "import pprint\n",
    "\n",
    "import numpy as np\n",
    "try:\n",
    "    import brian2modelfitting\n",
    "except ImportError as e:\n",
    "    install = input(f'{e}, Do you want to install it? [Y/n]')\n",
    "    if install == 'Y':\n",
    "        import sys\n",
    "        !{sys.executable} -m pip install brian2modelfitting\n",
    "        import brian2modelfitting\n",
    "        print(brian2modelfitting.__version__)\n",
    "from brian2 import *\n",
    "from brian2modelfitting import *"
   ]
  },
  {
   "cell_type": "code",
   "execution_count": null,
   "id": "extra-anaheim",
   "metadata": {},
   "outputs": [],
   "source": [
    "%config InlineBackend.figure_format = 'retina'"
   ]
  },
  {
   "cell_type": "code",
   "execution_count": null,
   "id": "fresh-petroleum",
   "metadata": {},
   "outputs": [],
   "source": [
    "# read input and output traces\n",
    "def read_io_traces(out_trace_filename='out_trace_ground_truth'):\n",
    "    try:\n",
    "        path_to_out = os.path.join('05-lab-ex-data',\n",
    "                                   out_trace_filename + '.npy')\n",
    "        out_trace = np.load(path_to_out)\n",
    "    except FileNotFoundError as e:\n",
    "        print(e, '\\nReading ground truth trace instead.')\n",
    "        path_to_out = os.path.join('05-lab-ex-data',\n",
    "                                   'out_trace_ground_truth.npy')\n",
    "        out_trace = np.load(path_to_out)\n",
    "    finally:\n",
    "        path_to_inp = os.path.join('05-lab-ex-data', 'inp_trace.npy')\n",
    "        inp_trace = np.load(path_to_inp)\n",
    "        return inp_trace, out_trace"
   ]
  },
  {
   "cell_type": "code",
   "execution_count": null,
   "id": "fallen-celebrity",
   "metadata": {},
   "outputs": [],
   "source": [
    "# fit the data\n",
    "def fit_traces(out_trace_filename='out_trace_ground_truth'):\n",
    "    # instatiate optimize, metric and fitter\n",
    "    optimizer = NevergradOptimizer()\n",
    "    metric = MSEMetric(t_start=50*ms)\n",
    "    \n",
    "    # load traces\n",
    "    inp_trace, out_trace = read_io_traces(out_trace_filename)\n",
    "\n",
    "    # instantiate fitter\n",
    "    fitter = TraceFitter(model=eqs, dt=dt, n_samples=60,\n",
    "                         input={'I_inj': inp_trace.reshape(1, -1)*uA*cm**-2*area},\n",
    "                         output={'V': out_trace.reshape(1, -1)*mV},\n",
    "                         param_init=init_conds,\n",
    "                         method='exponential_euler')\n",
    "\n",
    "    # multiround fitting\n",
    "    res, error = fitter.fit(n_rounds=5,\n",
    "                            optimizer=optimizer, metric=metric,\n",
    "                            callback='progressbar',\n",
    "                            g_l=[0.1*mS*cm**-2*area, 1.*mS*cm**-2*area],\n",
    "                            g_Na=[60.*mS*cm**-2*area, 180.*mS*cm**-2*area],\n",
    "                            g_K=[10.*mS*cm**-2*area, 50.*mS*cm**-2*area])\n",
    "\n",
    "    # fitted traces given best values for free parameters stored in `res`\n",
    "    fits = fitter.generate_traces()\n",
    "    \n",
    "    return dict(fitted_params=res,\n",
    "                error=error,\n",
    "                recordings=out_trace,\n",
    "                fitted_traces=fits.ravel()/mV)"
   ]
  },
  {
   "cell_type": "code",
   "execution_count": null,
   "id": "working-charger",
   "metadata": {},
   "outputs": [],
   "source": [
    "# set parameters\n",
    "area = 1000*um**2\n",
    "C_m = 1.*ufarad*cm**-2*area\n",
    "E_l = -54.387*mV\n",
    "E_K = -77.*mV\n",
    "E_Na = 50.*mV\n",
    "dt = 0.01*ms\n",
    "init_conds = {'V': -65*mV, 'm': 0.05, 'h': 0.6, 'n': 0.32}\n",
    "true_params = {'g_l': 0.3*mS*cm**-2*area,\n",
    "               'g_Na': 120.*mS*cm**-2*area,\n",
    "               'g_K': 36.*mS*cm**-2*area}\n",
    "inp_trace, out_trace_ground_truth = read_io_traces('out_trace_ground_truth')"
   ]
  },
  {
   "cell_type": "code",
   "execution_count": null,
   "id": "widespread-verification",
   "metadata": {},
   "outputs": [],
   "source": [
    "# set model definintion\n",
    "eqs = '''\n",
    "    # ode system\n",
    "    dV/dt = ((I_inj\n",
    "          - g_Na * m ** 3 * h * (V - E_Na)\n",
    "          - g_K * n**4 * (V - E_K)\n",
    "          - g_l * (V - E_l)) / C_m) : volt\n",
    "    dm/dt = alpha_m * (1.0 - m) - beta_m * m : 1\n",
    "    dh/dt = alpha_h * (1.0 - h) - beta_h * h : 1\n",
    "    dn/dt = alpha_n * (1.0 - n) - beta_n * n : 1\n",
    "\n",
    "    alpha_m = (0.1*mV**-1) * (V + 40.*mV) / (1. - exp(-(V + 40.*mV) / (10.*mV)))/ms : Hz\n",
    "    beta_m = 4. * exp(-(V + 65.*mV) / (18.*mV))/ms : Hz\n",
    "    alpha_h = 0.07 * exp(-(V + 65.*mV) / (20.*mV))/ms : Hz\n",
    "    beta_h = 1. / (1. + exp(-(V + 35.*mV) / (10.*mV)))/ms : Hz\n",
    "    alpha_n = (0.01*mV**-1) * (V + 55.*mV) / (1. - exp(-(V + 55.*mV) / (10.*mV)))/ms : Hz\n",
    "    beta_n = 0.125 * exp(-(V + 65.*mV) / (80.*mV))/ms : Hz\n",
    "\n",
    "    # parameters to fit\n",
    "    g_Na : siemens (constant)\n",
    "    g_K : siemens (constant)\n",
    "    g_l : siemens (constant)\n",
    "    '''"
   ]
  },
  {
   "cell_type": "code",
   "execution_count": null,
   "id": "entire-dylan",
   "metadata": {},
   "outputs": [],
   "source": [
    "# fit measured noisy traces\n",
    "ret_measured = fit_traces(out_trace_filename='out_trace_measured')"
   ]
  },
  {
   "cell_type": "code",
   "execution_count": null,
   "id": "considered-finding",
   "metadata": {},
   "outputs": [],
   "source": [
    "# fit filtered traces\n",
    "ret_filtered = fit_traces(out_trace_filename='out_trace_filtered')"
   ]
  },
  {
   "cell_type": "code",
   "execution_count": null,
   "id": "compatible-uruguay",
   "metadata": {},
   "outputs": [],
   "source": [
    "# ground truth ion channel values\n",
    "print(f'{true_params = }')"
   ]
  },
  {
   "cell_type": "code",
   "execution_count": null,
   "id": "another-muslim",
   "metadata": {},
   "outputs": [],
   "source": [
    "# noisy fits\n",
    "pprint.pprint(ret_measured)"
   ]
  },
  {
   "cell_type": "code",
   "execution_count": null,
   "id": "hungarian-fetish",
   "metadata": {},
   "outputs": [],
   "source": [
    "# filtered fits\n",
    "pprint.pprint(ret_filtered)"
   ]
  },
  {
   "cell_type": "code",
   "execution_count": null,
   "id": "revised-composition",
   "metadata": {},
   "outputs": [],
   "source": [
    "# visualize fitted traces w.r.t. ground truth, measured traces and filtered traces\n",
    "t = np.arange(0, out_trace_ground_truth.size*dt/ms, dt/ms)\n",
    "fig, ax = plt.subplots(4, 1, sharex=True, sharey=False,\n",
    "                       gridspec_kw={'height_ratios': [3, 3, 3, 1]}, figsize=(7, 7))\n",
    "# ground truth\n",
    "ax[0].plot(t, out_trace_ground_truth, lw=3, label='ground truth trace')\n",
    "ax[0].set_ylabel(r'$V$ [mV]')\n",
    "ax[0].legend()\n",
    "\n",
    "# measured noisy trace and fitted traces w.r.t. measured nosiy trace\n",
    "ax[1].plot(t, ret_measured['recordings'], lw=2, label='raw recordings')\n",
    "ax[1].plot(t, ret_measured['fitted_traces'], lw=3, label='fitted trace')\n",
    "ax[1].set_ylabel(r'$V$ [mV]')\n",
    "ax[1].legend()\n",
    "\n",
    "# filtered trace and fitted traces w.r.t. filtered trace\n",
    "ax[2].plot(t, ret_filtered['recordings'], lw=3, label='filtered recordings')\n",
    "ax[2].plot(t, ret_filtered['fitted_traces'], '--', lw=3, label='fitted trace')\n",
    "ax[2].set_ylabel(r'$V$ [mV]')\n",
    "ax[2].legend()\n",
    "\n",
    "# stimulus\n",
    "ax[3].plot(t, inp_trace, lw=3)\n",
    "ax[3].set(xlabel=r'$t$ [ms]', ylabel=r'$I$ [$\\mu$A/cm$^2$]',\n",
    "          xlim=[0, 450]);"
   ]
  },
  {
   "cell_type": "code",
   "execution_count": null,
   "id": "latin-empty",
   "metadata": {},
   "outputs": [],
   "source": []
  }
 ],
 "metadata": {
  "kernelspec": {
   "display_name": "Python 3 (ipykernel)",
   "language": "python",
   "name": "python3"
  },
  "language_info": {
   "codemirror_mode": {
    "name": "ipython",
    "version": 3
   },
   "file_extension": ".py",
   "mimetype": "text/x-python",
   "name": "python",
   "nbconvert_exporter": "python",
   "pygments_lexer": "ipython3",
   "version": "3.9.12"
  }
 },
 "nbformat": 4,
 "nbformat_minor": 5
}
