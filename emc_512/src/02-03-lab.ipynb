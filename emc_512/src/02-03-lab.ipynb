{
 "cells": [
  {
   "cell_type": "markdown",
   "metadata": {},
   "source": [
    "# Električni filtri\n",
    "Electrical circuits defined using concentrated passive parameters (R, L, C). In signal processing, a filter is a device or process that removes some excess components or features from a input signal."
   ]
  },
  {
   "cell_type": "code",
   "execution_count": 2,
   "metadata": {},
   "outputs": [],
   "source": [
    "import matplotlib.pyplot as plt\n",
    "import numpy as np\n",
    "import scipy\n",
    "from scipy.fftpack import fftshift\n",
    "from scipy.signal import (butter, lfilter, freqz)"
   ]
  },
  {
   "cell_type": "markdown",
   "metadata": {},
   "source": [
    "## Niskopropusni filtar\n",
    "A low-pass filter (LPF) is a filter that passes signals with a frequency lower than a selected **cut-off frequency** and attenuates signals with frequencies higher than the cutoff frequency. The exact frequency response of the filter depends on the filter design.\n",
    "\n",
    "\n",
    "Interactive link for testing: http://sim.okawa-denshi.jp/en/CRtool.php"
   ]
  },
  {
   "cell_type": "markdown",
   "metadata": {},
   "source": [
    "### RC niskopropusni filtar"
   ]
  },
  {
   "cell_type": "markdown",
   "metadata": {},
   "source": [
    "<img src=\"static/rc.png\" alt=\"simple-rc-lowpass\" width=\"300\"/>"
   ]
  },
  {
   "cell_type": "code",
   "execution_count": null,
   "metadata": {},
   "outputs": [],
   "source": [
    "def rc_lowpass(R, C, f) -> float:\n",
    "    \"\"\"returns a frequency response function\"\"\"\n",
    "    return 1 / (1 + 1.0j * 2 * np.pi * f * R * C)\n",
    "\n",
    "\n",
    "# configuration\n",
    "R = 4500.0         # Ohms\n",
    "C = 7.0*10**(-6)   # Farads\n",
    "f = np.linspace(0.1, 10000, num=10000)\n",
    "f_cutoff = 1/(2*np.pi*R*C)\n",
    "print(f'Cut-off frequency = {f_cutoff}Hz')\n",
    "\n",
    "H = rc_lowpass(R, C, f) \n",
    "plt.figure(num=None, figsize=(12, 6), dpi=80)\n",
    "plt.plot(f*2*np.pi, [abs(h) for h in H], label='Frequency response')\n",
    "plt.plot(f_cutoff*2*np.pi, 1/np.sqrt(2), marker='o', label='Cut-off point')\n",
    "plt.annotate(f'ω_c = {round(f_cutoff*2*np.pi, 2)}\\n  H(ω_c)={round(1/np.sqrt(2), 2)}', \n",
    "             (f_cutoff*2*np.pi, 1/np.sqrt(2)))\n",
    "plt.xscale('log')\n",
    "plt.title(f'R={R/1000}kΩ\\nC={C*10**6}µF')\n",
    "plt.xlabel('ω [Hz]')\n",
    "plt.ylabel('abs(V_out/V_in)(ω)')\n",
    "plt.legend(loc='best')\n",
    "plt.show()"
   ]
  },
  {
   "cell_type": "markdown",
   "metadata": {},
   "source": [
    "### Butterworth filtar\n",
    "A third-order low-pass filter (Cauer topology), which becomes a Butterworth filter with cutoff frequency $ω_{c} = 1$ when, for example, $C_{2} = \\frac{4}{3} F$, $R_{4} =1 \\Omega$, $L_{1} = \\frac{3}{2} H$ and $L_{3} = \\frac{1}{2} H$."
   ]
  },
  {
   "cell_type": "markdown",
   "metadata": {},
   "source": [
    "<img src=\"static/but.png\" alt=\"butterworth\" width=\"500\"/>"
   ]
  },
  {
   "cell_type": "code",
   "execution_count": null,
   "metadata": {},
   "outputs": [],
   "source": [
    "def butter_lowpass(cutoff, fs, order=3) -> float:\n",
    "    nyq = 0.5 * fs\n",
    "    normal_cutoff = cutoff / nyq\n",
    "    b, a = butter(order, normal_cutoff, btype='low', analog=False)\n",
    "    return b, a\n",
    "\n",
    "\n",
    "def butter_lowpass_filter(data, cutoff, fs, order=5) -> float:\n",
    "    b, a = butter_lowpass(cutoff, fs, order=order)\n",
    "    y = lfilter(b, a, data)\n",
    "    return y\n",
    "\n",
    "\n",
    "# Filter requirements.\n",
    "f = np.linspace(1, 10000, num=10000)\n",
    "fs = 10000.0 # sample rate, Hz\n",
    "order = 3\n",
    "cutoff = 5\n",
    "\n",
    "# filter coefficients\n",
    "b, a = butter_lowpass(cutoff, fs, order)\n",
    "# Plot the frequency response.\n",
    "plt.figure(num=None, figsize=(12, 6), dpi=80)\n",
    "w, h = freqz(b, a, worN=f.size)\n",
    "plt.plot(0.5*fs*w/np.pi, np.abs(h), 'b', label='Frequency response')\n",
    "plt.plot(cutoff, 1/np.sqrt(2), marker='o', label='Cut-off point')\n",
    "plt.annotate(f'f_c = {cutoff}\\n  H(ω_c)={round(1/np.sqrt(2), 2)}', \n",
    "             (cutoff, 1/np.sqrt(2)))\n",
    "plt.xscale('log')\n",
    "plt.xlabel('f [Hz]')\n",
    "plt.ylabel('abs(V_out/V_in)(ω)')\n",
    "plt.legend(loc='best')\n",
    "plt.show()"
   ]
  },
  {
   "cell_type": "code",
   "execution_count": null,
   "metadata": {},
   "outputs": [],
   "source": [
    "# demonstration the use of the filter\n",
    "# raw data\n",
    "T = 5.0           # seconds\n",
    "fs = 30.0         # sample rate, Hz\n",
    "n = int(T * fs)   # total number of samples\n",
    "t = np.linspace(0, T, n, endpoint=False)\n",
    "# noisy input\n",
    "data = np.sin(1.2*2*np.pi*t) + 1.5*np.cos(9*2*np.pi*t) + 0.5*np.sin(12.0*2*np.pi*t)\n",
    "\n",
    "# RC filtered output\n",
    "yShift = fftshift(data) # shift of the input voltage function\n",
    "_Fourier = scipy.fft(yShift) # fast Fourier transform \n",
    "_Fourier = fftshift(_Fourier) # inverse shift of the Fourier Transform\n",
    "filtered = _Fourier * rc_lowpass(R, C, fs)\n",
    "filtered_time = scipy.ifft(filtered)\n",
    "\n",
    "# Butteworth filtered output\n",
    "y = butter_lowpass_filter(data, cutoff, fs, order)\n",
    "\n",
    "plt.figure(num=None, figsize=(12, 6), dpi=80)\n",
    "plt.subplot(2, 1, 1)\n",
    "plt.plot(t, data, '-', label='input voltage function')\n",
    "plt.plot(t, np.real(filtered_time), 'g-', linewidth=2, label='filtered data')\n",
    "plt.xlabel('Time [sec]')\n",
    "plt.title(f'RC filter w/ cut off at {round(f_cutoff, 2)}Hz')\n",
    "plt.legend()\n",
    "\n",
    "\n",
    "plt.subplot(2, 1, 2)\n",
    "plt.plot(t, data, 'b-', label='input voltage function')\n",
    "plt.plot(t, y, 'g-', linewidth=2, label='filtered data')\n",
    "plt.xlabel('Time [sec]')\n",
    "plt.title(f'Butterworth filter w/ cut off at {round(cutoff, 2)}Hz')\n",
    "plt.legend()\n",
    "\n",
    "plt.subplots_adjust(hspace=0.5)\n",
    "plt.show()"
   ]
  },
  {
   "cell_type": "markdown",
   "metadata": {},
   "source": [
    "## Visokopropusni filtar\n",
    "A high-pass filter (HPF) is a filter that passes signals with a frequency higher than a selected **cut-off frequency** and attenuates signals with frequencies lower than the cutoff frequency. The exact frequency response of the filter depends on the filter design.\n",
    "\n",
    "\n",
    "Interactive link for testing: http://sim.okawa-denshi.jp/en/CRtool.php"
   ]
  },
  {
   "cell_type": "markdown",
   "metadata": {},
   "source": [
    "### RL visokopropusni filtar"
   ]
  },
  {
   "cell_type": "markdown",
   "metadata": {},
   "source": [
    "<img src=\"static/rl-highpass.png\" alt=\"simple-rl-highpass\" width=\"400\"/>"
   ]
  },
  {
   "cell_type": "code",
   "execution_count": null,
   "metadata": {},
   "outputs": [],
   "source": [
    "def rl_highpass(R, L, f) -> float:\n",
    "    \"\"\"returns a frequency response function\"\"\"\n",
    "    return 1 / (1 + 1/(1.0j * 2 * np.pi * f * L / R))\n",
    "\n",
    "# configuration\n",
    "R = 200.0         # Ohms\n",
    "L = 100*10**(-3)   # Henry\n",
    "f = np.linspace(0.1, 10000, num=10000)\n",
    "f_cutoff = R/(2*np.pi*L)\n",
    "print(f'Cut-off frequency = {f_cutoff}Hz')\n",
    "\n",
    "H = rl_highpass(R, L, f)\n",
    "plt.figure(num=None, figsize=(12, 6), dpi=80)\n",
    "plt.plot(f*2*np.pi, [abs(h) for h in H], label='Frequency response')\n",
    "plt.plot(f_cutoff*2*np.pi, 1/np.sqrt(2), marker='o', label='Cut-off point')\n",
    "plt.annotate(f'   ω_c = {round(f_cutoff*2*np.pi, 2)}\\n  H(ω_c)={round(1/np.sqrt(2), 2)}', \n",
    "             (f_cutoff*2*np.pi, 1/np.sqrt(2)))\n",
    "plt.xscale('log')\n",
    "plt.title(f'R={R/1000}kΩ\\nL={L*10**3}mF')\n",
    "plt.xlabel('ω [Hz]')\n",
    "plt.ylabel('abs(V_out/V_in)(ω)')\n",
    "plt.legend(loc='best')\n",
    "plt.show()"
   ]
  },
  {
   "cell_type": "markdown",
   "metadata": {},
   "source": [
    "### Strujno-naponska karakteristika"
   ]
  },
  {
   "cell_type": "code",
   "execution_count": null,
   "metadata": {},
   "outputs": [],
   "source": [
    "import numpy as np\n",
    "import matplotlib.pyplot as plt\n",
    "plt.style.use('ggplot')\n",
    "plt.figure(num=None, figsize=(12, 6), dpi=80)\n",
    "\n",
    "l = 0.0229      #Inductance (H)\n",
    "r = 3.34        #Resistance (Ohm)\n",
    "v = 5           #Voltage (V) DC\n",
    "i = v/r         #Peak current (A)\n",
    "tau = l/r       #Tau time constant\n",
    "a = tau * 4.4   #critical time value at which current is switched (switching occurs every a seconds)\n",
    "\n",
    "t = np.linspace(0,2*a,2000) #Time vector\n",
    "\n",
    "def initialCurrent():\n",
    "    current = []\n",
    "    for i in t:\n",
    "        if i <= a:\n",
    "            current.append((v/r)*(1-np.exp((-r/l)*i)))          #I(t) = v/r * [1-exp((-r/l)*t)]\n",
    "        else:\n",
    "            current.append(0)\n",
    "    return np.array(current)\n",
    "\n",
    "#Plot Icurrent\n",
    "Icurrent = initialCurrent()\n",
    "plt.plot(t,Icurrent,label='current',color='blue')\n",
    "\n",
    "def laterCurrent():\n",
    "    current = []\n",
    "    for i in t:\n",
    "        if i >= a:\n",
    "            current.append(Icurrent[-1001]*np.exp((-r/l)*(i-a)))  #I(t) = Ir * exp((-r/l)*(t-t0))\n",
    "        else:\n",
    "            current.append(0)\n",
    "    return np.array(current)\n",
    "\n",
    "#Plot current after switch off\n",
    "current_off = laterCurrent()\n",
    "plt.plot(t,current_off,color='blue')\n",
    "\n",
    "#Current on and off cycle: on and off at the zeros of the it function\n",
    "f = 1/(2*a)                 #frequency f = 1/T\n",
    "w = np.pi/a                 #w = 2pi * f\n",
    "it = i*np.sin(w*t)\n",
    "plt.plot(t,it,label='On/off cycle',color='green')\n",
    "\n",
    "#Plot zeros (switching points)\n",
    "zeros = np.array([0,a,2*a])\n",
    "zeros_i = i*np.sin(w*zeros)\n",
    "plt.plot(zeros,zeros_i,marker='x',markersize=10,label='On and off',color='red')\n",
    "plt.annotate('On',xy=(zeros[0]+0.0005,zeros_i[0]))\n",
    "plt.annotate('Off',xy=(zeros[1]+0.0005,zeros_i[1]))\n",
    "plt.annotate('On',xy=(zeros[2]+0.0005,zeros_i[2]))\n",
    "\n",
    "#Critical value plot\n",
    "plt.plot((a,a+0.00001),(max(it),min(it)),'r',alpha=0.9,label='Critical value')\n",
    "\n",
    "print('Inductance (H):','\\t'+str(l))\n",
    "print('Resistance (Ohm):','\\t'+str(r))\n",
    "print('DC voltage (V):','\\t'+str(v))\n",
    "print('Current (A):','\\t\\t'+str(i))\n",
    "print('Tau:','\\t\\t\\t'+str(tau))\n",
    "print('Critical time (s):','\\t'+str(a))\n",
    "print('\\n')\n",
    "print('Switch frequency (Hz):','\\t'+str(f))\n",
    "print('w coefficient (2*pi*f)','\\t'+str(w))\n",
    "\n",
    "#x axis line\n",
    "plt.plot((0,2*a+0.0005),(0,0),'k',alpha=0.9,markersize=10)\n",
    "plt.xlabel('time (s)')\n",
    "plt.ylabel('current (A)')\n",
    "plt.legend(loc='best')\n",
    "plt.xlim(-0.002,2*a+0.003)\n",
    "plt.ylim(min(it)-0.05,max(it)+0.05)\n",
    "\n",
    "plt.show()"
   ]
  },
  {
   "cell_type": "markdown",
   "metadata": {},
   "source": [
    "Following code uses the functions ```scipy.signal.firwin``` or ```scipy.signal.firwin2``` to create bandpass filters corresponding to the 128-point Hamming window with cutoff frequencies 0.7Hz and 4Hz. This assumes that the sampling is done uniformly. If the sampling is not uniform, a FIR filter is not appropriate.\n",
    "\n",
    "Original code is taken from [here](https://stackoverflow.com/a/16306891)."
   ]
  },
  {
   "cell_type": "code",
   "execution_count": null,
   "metadata": {},
   "outputs": [],
   "source": [
    "import numpy as np\n",
    "import matplotlib.pyplot as plt\n",
    "plt.style.use('ggplot')\n",
    "from scipy.signal import freqz\n",
    "from scipy.signal import firwin, remez, kaiser_atten, kaiser_beta\n",
    "\n",
    "def bandpass_firwin(ntaps, lowcut, highcut, fs, window='hamming'):\n",
    "    nyq = 0.5 * fs\n",
    "    taps = firwin(ntaps, [lowcut, highcut], nyq=nyq, pass_zero=False,\n",
    "                  window=window, scale=False)\n",
    "    return taps\n",
    "\n",
    "def bandpass_kaiser(ntaps, lowcut, highcut, fs, width):\n",
    "    nyq = 0.5 * fs\n",
    "    atten = kaiser_atten(ntaps, width / nyq)\n",
    "    beta = kaiser_beta(atten)\n",
    "    taps = firwin(ntaps, [lowcut, highcut], nyq=nyq, pass_zero=False,\n",
    "                  window=('kaiser', beta), scale=False)\n",
    "    return taps\n",
    "\n",
    "def bandpass_remez(ntaps, lowcut, highcut, fs, width):\n",
    "    delta = 0.5 * width\n",
    "    edges = [0, lowcut - delta, lowcut + delta,\n",
    "             highcut - delta, highcut + delta, 0.5*fs]\n",
    "    taps = remez(ntaps, edges, [0, 1, 0], Hz=fs)\n",
    "    return taps\n",
    "\n",
    "\n",
    "# Sample rate and desired cutoff frequencies (in Hz).\n",
    "fs = 63.0\n",
    "lowcut = 0.7\n",
    "highcut = 4.0\n",
    "\n",
    "ntaps = 128\n",
    "taps_hamming = bandpass_firwin(ntaps, lowcut, highcut, fs=fs)\n",
    "taps_kaiser16 = bandpass_kaiser(ntaps, lowcut, highcut, fs=fs, width=1.6)\n",
    "taps_kaiser10 = bandpass_kaiser(ntaps, lowcut, highcut, fs=fs, width=1.0)\n",
    "remez_width = 1.0\n",
    "taps_remez = bandpass_remez(ntaps, lowcut, highcut, fs=fs,\n",
    "                            width=remez_width)\n",
    "\n",
    "# Plot the frequency responses of the filters.\n",
    "plt.figure(1, figsize=(12, 9))\n",
    "plt.clf()\n",
    "\n",
    "# First plot the desired ideal response as a green(ish) rectangle.\n",
    "rect = plt.Rectangle((lowcut, 0), highcut - lowcut, 1.0,\n",
    "                     facecolor=\"#60ff60\", alpha=0.2)\n",
    "plt.gca().add_patch(rect)\n",
    "\n",
    "# Plot the frequency response of each filter.\n",
    "w, h = freqz(taps_hamming, 1, worN=2000)\n",
    "plt.plot((fs * 0.5 / np.pi) * w, abs(h), label=\"Hamming window\")\n",
    "\n",
    "w, h = freqz(taps_kaiser16, 1, worN=2000)\n",
    "plt.plot((fs * 0.5 / np.pi) * w, abs(h), label=\"Kaiser window, width=1.6\")\n",
    "\n",
    "w, h = freqz(taps_kaiser10, 1, worN=2000)\n",
    "plt.plot((fs * 0.5 / np.pi) * w, abs(h), label=\"Kaiser window, width=1.0\")\n",
    "\n",
    "w, h = freqz(taps_remez, 1, worN=2000)\n",
    "plt.plot((fs * 0.5 / np.pi) * w, abs(h),\n",
    "         label=\"Remez algorithm, width=%.1f\" % remez_width)\n",
    "\n",
    "plt.xlim(0, 8.0)\n",
    "plt.ylim(0, 1.1)\n",
    "plt.grid(True)\n",
    "plt.legend()\n",
    "plt.xlabel('Frequency (Hz)')\n",
    "plt.ylabel('Gain')\n",
    "plt.title('Frequency response of several FIR filters, %d taps' % ntaps)\n",
    "\n",
    "plt.show()"
   ]
  },
  {
   "cell_type": "code",
   "execution_count": null,
   "metadata": {},
   "outputs": [],
   "source": []
  },
  {
   "cell_type": "code",
   "execution_count": null,
   "metadata": {},
   "outputs": [],
   "source": []
  },
  {
   "cell_type": "code",
   "execution_count": null,
   "metadata": {},
   "outputs": [],
   "source": []
  },
  {
   "cell_type": "code",
   "execution_count": null,
   "metadata": {},
   "outputs": [],
   "source": []
  },
  {
   "cell_type": "code",
   "execution_count": null,
   "metadata": {},
   "outputs": [],
   "source": []
  }
 ],
 "metadata": {
  "kernelspec": {
   "display_name": "Python 3",
   "language": "python",
   "name": "python3"
  },
  "language_info": {
   "codemirror_mode": {
    "name": "ipython",
    "version": 3
   },
   "file_extension": ".py",
   "mimetype": "text/x-python",
   "name": "python",
   "nbconvert_exporter": "python",
   "pygments_lexer": "ipython3",
   "version": "3.7.6"
  }
 },
 "nbformat": 4,
 "nbformat_minor": 4
}
